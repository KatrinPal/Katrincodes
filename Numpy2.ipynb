{
  "nbformat": 4,
  "nbformat_minor": 0,
  "metadata": {
    "colab": {
      "provenance": [],
      "authorship_tag": "ABX9TyPW+gICEJLgaQkDsDwggNEM",
      "include_colab_link": true
    },
    "kernelspec": {
      "name": "python3",
      "display_name": "Python 3"
    },
    "language_info": {
      "name": "python"
    }
  },
  "cells": [
    {
      "cell_type": "markdown",
      "metadata": {
        "id": "view-in-github",
        "colab_type": "text"
      },
      "source": [
        "<a href=\"https://colab.research.google.com/github/KatrinPal/Katrincodes/blob/main/Numpy2.ipynb\" target=\"_parent\"><img src=\"https://colab.research.google.com/assets/colab-badge.svg\" alt=\"Open In Colab\"/></a>"
      ]
    },
    {
      "cell_type": "code",
      "execution_count": 1,
      "metadata": {
        "id": "W9sK90MSntgB"
      },
      "outputs": [],
      "source": [
        "import numpy as np"
      ]
    },
    {
      "cell_type": "code",
      "source": [
        "coin = [\"heads\", \"tails\"]"
      ],
      "metadata": {
        "id": "U8Fn8AL_n1HA"
      },
      "execution_count": 14,
      "outputs": []
    },
    {
      "cell_type": "code",
      "source": [
        "number_of_throws = 1000\n"
      ],
      "metadata": {
        "id": "j1JzrWyZoAWn"
      },
      "execution_count": 3,
      "outputs": []
    },
    {
      "cell_type": "code",
      "source": [
        "throws = np.random.choice(coin, number_of_throws)\n",
        "throws"
      ],
      "metadata": {
        "colab": {
          "base_uri": "https://localhost:8080/"
        },
        "collapsed": true,
        "id": "q14HuhvEoG_9",
        "outputId": "f67a7599-052d-4325-d924-c9b503ac5110"
      },
      "execution_count": 15,
      "outputs": [
        {
          "output_type": "execute_result",
          "data": {
            "text/plain": [
              "array(['tails', 'tails', 'heads', 'tails', 'tails', 'tails', 'heads',\n",
              "       'heads', 'heads', 'tails', 'heads', 'heads', 'heads', 'heads',\n",
              "       'heads', 'tails', 'heads', 'tails', 'tails', 'tails', 'tails',\n",
              "       'tails', 'tails', 'tails', 'tails', 'heads', 'heads', 'heads',\n",
              "       'heads', 'tails', 'heads', 'tails', 'tails', 'heads', 'tails',\n",
              "       'tails', 'tails', 'tails', 'heads', 'tails', 'tails', 'tails',\n",
              "       'tails', 'heads', 'tails', 'tails', 'tails', 'tails', 'tails',\n",
              "       'heads', 'tails', 'heads', 'tails', 'heads', 'tails', 'heads',\n",
              "       'heads', 'tails', 'heads', 'heads', 'tails', 'tails', 'tails',\n",
              "       'tails', 'heads', 'heads', 'heads', 'tails', 'heads', 'heads',\n",
              "       'heads', 'tails', 'tails', 'tails', 'heads', 'tails', 'tails',\n",
              "       'heads', 'heads', 'heads', 'heads', 'heads', 'tails', 'tails',\n",
              "       'tails', 'heads', 'tails', 'tails', 'tails', 'tails', 'tails',\n",
              "       'tails', 'heads', 'heads', 'tails', 'heads', 'heads', 'tails',\n",
              "       'tails', 'heads', 'tails', 'tails', 'tails', 'heads', 'tails',\n",
              "       'tails', 'tails', 'heads', 'tails', 'tails', 'tails', 'tails',\n",
              "       'heads', 'heads', 'heads', 'tails', 'tails', 'heads', 'tails',\n",
              "       'heads', 'heads', 'heads', 'heads', 'tails', 'tails', 'heads',\n",
              "       'tails', 'heads', 'heads', 'tails', 'heads', 'heads', 'heads',\n",
              "       'tails', 'heads', 'heads', 'heads', 'heads', 'tails', 'tails',\n",
              "       'heads', 'tails', 'tails', 'tails', 'tails', 'heads', 'tails',\n",
              "       'tails', 'heads', 'tails', 'heads', 'tails', 'tails', 'heads',\n",
              "       'heads', 'tails', 'tails', 'tails', 'heads', 'heads', 'tails',\n",
              "       'tails', 'tails', 'tails', 'heads', 'heads', 'heads', 'tails',\n",
              "       'heads', 'heads', 'heads', 'tails', 'tails', 'tails', 'heads',\n",
              "       'heads', 'tails', 'heads', 'tails', 'tails', 'heads', 'heads',\n",
              "       'tails', 'heads', 'tails', 'tails', 'tails', 'tails', 'tails',\n",
              "       'heads', 'tails', 'heads', 'heads', 'tails', 'heads', 'heads',\n",
              "       'tails', 'heads', 'heads', 'heads', 'tails', 'heads', 'heads',\n",
              "       'heads', 'heads', 'tails', 'heads', 'heads', 'tails', 'heads',\n",
              "       'tails', 'heads', 'heads', 'heads', 'tails', 'tails', 'tails',\n",
              "       'heads', 'tails', 'tails', 'tails', 'tails', 'tails', 'heads',\n",
              "       'tails', 'heads', 'heads', 'tails', 'heads', 'tails', 'heads',\n",
              "       'heads', 'heads', 'tails', 'heads', 'heads', 'heads', 'heads',\n",
              "       'tails', 'tails', 'tails', 'tails', 'heads', 'heads', 'tails',\n",
              "       'tails', 'tails', 'tails', 'tails', 'tails', 'heads', 'tails',\n",
              "       'heads', 'tails', 'heads', 'heads', 'tails', 'tails', 'heads',\n",
              "       'tails', 'heads', 'tails', 'tails', 'tails', 'tails', 'tails',\n",
              "       'heads', 'heads', 'tails', 'heads', 'heads', 'tails', 'heads',\n",
              "       'heads', 'heads', 'tails', 'tails', 'tails', 'tails', 'tails',\n",
              "       'tails', 'heads', 'heads', 'tails', 'heads', 'tails', 'tails',\n",
              "       'tails', 'tails', 'heads', 'tails', 'tails', 'heads', 'heads',\n",
              "       'tails', 'tails', 'heads', 'heads', 'heads', 'heads', 'tails',\n",
              "       'heads', 'tails', 'heads', 'tails', 'heads', 'heads', 'heads',\n",
              "       'heads', 'tails', 'tails', 'heads', 'heads', 'tails', 'tails',\n",
              "       'heads', 'heads', 'heads', 'heads', 'tails', 'heads', 'tails',\n",
              "       'tails', 'tails', 'tails', 'heads', 'tails', 'tails', 'heads',\n",
              "       'tails', 'tails', 'tails', 'heads', 'tails', 'heads', 'heads',\n",
              "       'tails', 'tails', 'tails', 'heads', 'tails', 'tails', 'heads',\n",
              "       'heads', 'heads', 'heads', 'heads', 'heads', 'heads', 'heads',\n",
              "       'heads', 'tails', 'tails', 'tails', 'heads', 'heads', 'tails',\n",
              "       'heads', 'heads', 'tails', 'heads', 'heads', 'tails', 'heads',\n",
              "       'tails', 'tails', 'heads', 'tails', 'heads', 'heads', 'tails',\n",
              "       'heads', 'tails', 'tails', 'heads', 'heads', 'tails', 'heads',\n",
              "       'tails', 'tails', 'heads', 'tails', 'tails', 'heads', 'tails',\n",
              "       'heads', 'tails', 'heads', 'tails', 'heads', 'tails', 'tails',\n",
              "       'heads', 'heads', 'tails', 'tails', 'tails', 'heads', 'heads',\n",
              "       'heads', 'heads', 'tails', 'tails', 'heads', 'tails', 'tails',\n",
              "       'heads', 'tails', 'tails', 'heads', 'tails', 'heads', 'heads',\n",
              "       'heads', 'heads', 'tails', 'tails', 'tails', 'heads', 'tails',\n",
              "       'tails', 'tails', 'tails', 'tails', 'tails', 'tails', 'heads',\n",
              "       'tails', 'heads', 'heads', 'heads', 'tails', 'heads', 'heads',\n",
              "       'tails', 'tails', 'tails', 'heads', 'tails', 'heads', 'heads',\n",
              "       'tails', 'tails', 'heads', 'tails', 'tails', 'heads', 'tails',\n",
              "       'tails', 'tails', 'tails', 'tails', 'heads', 'tails', 'tails',\n",
              "       'heads', 'heads', 'heads', 'heads', 'tails', 'tails', 'heads',\n",
              "       'tails', 'tails', 'tails', 'tails', 'heads', 'tails', 'tails',\n",
              "       'tails', 'heads', 'heads', 'tails', 'tails', 'tails', 'tails',\n",
              "       'tails', 'tails', 'tails', 'heads', 'heads', 'tails', 'tails',\n",
              "       'tails', 'heads', 'heads', 'tails', 'tails', 'tails', 'tails',\n",
              "       'tails', 'tails', 'tails', 'tails', 'tails', 'tails', 'tails',\n",
              "       'heads', 'tails', 'heads', 'tails', 'tails', 'heads', 'heads',\n",
              "       'heads', 'tails', 'heads', 'heads', 'tails', 'heads', 'tails',\n",
              "       'tails', 'heads', 'tails', 'tails', 'tails', 'heads', 'tails',\n",
              "       'heads', 'tails', 'tails', 'tails', 'tails', 'tails', 'tails',\n",
              "       'heads', 'tails', 'heads', 'heads', 'heads', 'heads', 'heads',\n",
              "       'tails', 'tails', 'tails', 'heads', 'heads', 'tails', 'heads',\n",
              "       'tails', 'tails', 'tails', 'tails', 'tails', 'heads', 'tails',\n",
              "       'tails', 'tails', 'heads', 'heads', 'tails', 'heads', 'tails',\n",
              "       'heads', 'tails', 'tails', 'tails', 'heads', 'heads', 'tails',\n",
              "       'tails', 'tails', 'tails', 'heads', 'tails', 'tails', 'heads',\n",
              "       'tails', 'tails', 'heads', 'heads', 'heads', 'tails', 'tails',\n",
              "       'tails', 'heads', 'tails', 'heads', 'tails', 'tails', 'heads',\n",
              "       'heads', 'heads', 'heads', 'tails', 'heads', 'tails', 'tails',\n",
              "       'heads', 'tails', 'heads', 'tails', 'heads', 'heads', 'heads',\n",
              "       'heads', 'heads', 'heads', 'tails', 'heads', 'heads', 'tails',\n",
              "       'heads', 'tails', 'heads', 'tails', 'heads', 'tails', 'heads',\n",
              "       'heads', 'tails', 'tails', 'heads', 'heads', 'heads', 'heads',\n",
              "       'tails', 'tails', 'heads', 'tails', 'heads', 'heads', 'heads',\n",
              "       'heads', 'heads', 'heads', 'tails', 'tails', 'tails', 'heads',\n",
              "       'tails', 'tails', 'heads', 'tails', 'tails', 'heads', 'heads',\n",
              "       'tails', 'tails', 'heads', 'heads', 'heads', 'tails', 'heads',\n",
              "       'heads', 'tails', 'heads', 'tails', 'heads', 'tails', 'tails',\n",
              "       'heads', 'heads', 'tails', 'heads', 'tails', 'tails', 'heads',\n",
              "       'heads', 'tails', 'tails', 'heads', 'heads', 'heads', 'heads',\n",
              "       'heads', 'tails', 'heads', 'heads', 'heads', 'tails', 'heads',\n",
              "       'tails', 'heads', 'tails', 'heads', 'tails', 'tails', 'tails',\n",
              "       'tails', 'tails', 'heads', 'heads', 'tails', 'heads', 'heads',\n",
              "       'tails', 'tails', 'tails', 'heads', 'tails', 'heads', 'tails',\n",
              "       'heads', 'tails', 'heads', 'heads', 'tails', 'tails', 'heads',\n",
              "       'heads', 'heads', 'heads', 'heads', 'tails', 'tails', 'tails',\n",
              "       'tails', 'heads', 'heads', 'tails', 'tails', 'heads', 'heads',\n",
              "       'heads', 'heads', 'heads', 'tails', 'heads', 'tails', 'tails',\n",
              "       'tails', 'heads', 'tails', 'tails', 'tails', 'tails', 'heads',\n",
              "       'heads', 'tails', 'tails', 'heads', 'heads', 'heads', 'heads',\n",
              "       'tails', 'heads', 'tails', 'heads', 'tails', 'tails', 'tails',\n",
              "       'heads', 'heads', 'heads', 'tails', 'tails', 'heads', 'tails',\n",
              "       'heads', 'heads', 'tails', 'heads', 'tails', 'tails', 'tails',\n",
              "       'heads', 'tails', 'heads', 'heads', 'heads', 'heads', 'heads',\n",
              "       'tails', 'tails', 'heads', 'heads', 'heads', 'heads', 'heads',\n",
              "       'heads', 'heads', 'tails', 'tails', 'heads', 'tails', 'heads',\n",
              "       'heads', 'heads', 'heads', 'tails', 'tails', 'heads', 'heads',\n",
              "       'heads', 'heads', 'tails', 'heads', 'heads', 'tails', 'tails',\n",
              "       'heads', 'heads', 'heads', 'heads', 'heads', 'tails', 'tails',\n",
              "       'tails', 'tails', 'heads', 'heads', 'heads', 'tails', 'tails',\n",
              "       'tails', 'tails', 'heads', 'heads', 'heads', 'heads', 'tails',\n",
              "       'tails', 'tails', 'tails', 'tails', 'tails', 'tails', 'tails',\n",
              "       'tails', 'heads', 'tails', 'tails', 'heads', 'tails', 'tails',\n",
              "       'heads', 'tails', 'tails', 'tails', 'heads', 'heads', 'tails',\n",
              "       'tails', 'tails', 'heads', 'tails', 'heads', 'tails', 'heads',\n",
              "       'heads', 'heads', 'tails', 'tails', 'tails', 'heads', 'heads',\n",
              "       'heads', 'heads', 'heads', 'heads', 'tails', 'heads', 'tails',\n",
              "       'heads', 'heads', 'tails', 'heads', 'tails', 'heads', 'heads',\n",
              "       'heads', 'heads', 'tails', 'heads', 'tails', 'heads', 'tails',\n",
              "       'tails', 'tails', 'heads', 'heads', 'tails', 'tails', 'heads',\n",
              "       'tails', 'heads', 'tails', 'tails', 'tails', 'tails', 'heads',\n",
              "       'heads', 'tails', 'tails', 'heads', 'heads', 'tails', 'tails',\n",
              "       'heads', 'heads', 'tails', 'heads', 'heads', 'tails', 'heads',\n",
              "       'tails', 'tails', 'tails', 'heads', 'heads', 'tails', 'tails',\n",
              "       'tails', 'heads', 'heads', 'heads', 'heads', 'tails', 'heads',\n",
              "       'heads', 'heads', 'heads', 'heads', 'tails', 'heads', 'heads',\n",
              "       'heads', 'tails', 'tails', 'tails', 'tails', 'tails', 'heads',\n",
              "       'tails', 'tails', 'tails', 'tails', 'tails', 'tails', 'heads',\n",
              "       'heads', 'heads', 'heads', 'tails', 'heads', 'heads', 'heads',\n",
              "       'tails', 'tails', 'heads', 'heads', 'heads', 'heads', 'tails',\n",
              "       'heads', 'tails', 'heads', 'heads', 'tails', 'tails', 'tails',\n",
              "       'heads', 'heads', 'tails', 'tails', 'tails', 'heads', 'tails',\n",
              "       'heads', 'tails', 'tails', 'tails', 'heads', 'tails', 'tails',\n",
              "       'tails', 'heads', 'tails', 'tails', 'tails', 'tails', 'tails',\n",
              "       'tails', 'heads', 'tails', 'heads', 'heads', 'heads', 'heads',\n",
              "       'heads', 'tails', 'tails', 'tails', 'tails', 'heads', 'heads',\n",
              "       'heads', 'tails', 'heads', 'tails', 'heads', 'tails', 'heads',\n",
              "       'heads', 'tails', 'tails', 'tails', 'heads', 'tails'], dtype='<U5')"
            ]
          },
          "metadata": {},
          "execution_count": 15
        }
      ]
    },
    {
      "cell_type": "code",
      "source": [
        "np.sum(throws == \"heads\")\n"
      ],
      "metadata": {
        "colab": {
          "base_uri": "https://localhost:8080/"
        },
        "id": "76ro0LtUoiHM",
        "outputId": "6c7fa27a-b543-4c85-89a0-c36647266db8"
      },
      "execution_count": 10,
      "outputs": [
        {
          "output_type": "execute_result",
          "data": {
            "text/plain": [
              "496"
            ]
          },
          "metadata": {},
          "execution_count": 10
        }
      ]
    },
    {
      "cell_type": "code",
      "source": [
        "np.sum(throws == \"tails\")"
      ],
      "metadata": {
        "colab": {
          "base_uri": "https://localhost:8080/"
        },
        "id": "PSZIrLZmoo1C",
        "outputId": "7239832a-8be7-4798-9b16-0ba46877af81"
      },
      "execution_count": 11,
      "outputs": [
        {
          "output_type": "execute_result",
          "data": {
            "text/plain": [
              "504"
            ]
          },
          "metadata": {},
          "execution_count": 11
        }
      ]
    },
    {
      "cell_type": "code",
      "source": [
        "probabilities = [0.3, 0.7]"
      ],
      "metadata": {
        "id": "onTOEqeXpBV4"
      },
      "execution_count": 23,
      "outputs": []
    },
    {
      "cell_type": "code",
      "source": [
        "throws_with_p = np.random.choice(coin, number_of_throws, p= probabilities)\n",
        "throws_with_p\n"
      ],
      "metadata": {
        "colab": {
          "base_uri": "https://localhost:8080/"
        },
        "collapsed": true,
        "id": "XvYsXQnEpMr-",
        "outputId": "ab659254-026f-47c1-d270-6592ede449cd"
      },
      "execution_count": 24,
      "outputs": [
        {
          "output_type": "execute_result",
          "data": {
            "text/plain": [
              "array(['tails', 'heads', 'heads', 'tails', 'tails', 'tails', 'tails',\n",
              "       'heads', 'tails', 'tails', 'heads', 'tails', 'tails', 'heads',\n",
              "       'tails', 'tails', 'heads', 'tails', 'tails', 'tails', 'tails',\n",
              "       'tails', 'tails', 'heads', 'tails', 'tails', 'tails', 'tails',\n",
              "       'heads', 'tails', 'tails', 'tails', 'tails', 'tails', 'tails',\n",
              "       'tails', 'tails', 'tails', 'tails', 'tails', 'tails', 'heads',\n",
              "       'tails', 'tails', 'tails', 'tails', 'tails', 'tails', 'heads',\n",
              "       'heads', 'tails', 'heads', 'heads', 'tails', 'tails', 'tails',\n",
              "       'heads', 'heads', 'tails', 'tails', 'tails', 'tails', 'tails',\n",
              "       'tails', 'tails', 'heads', 'tails', 'tails', 'heads', 'heads',\n",
              "       'tails', 'heads', 'tails', 'heads', 'tails', 'tails', 'heads',\n",
              "       'heads', 'tails', 'heads', 'heads', 'tails', 'tails', 'heads',\n",
              "       'heads', 'heads', 'tails', 'tails', 'tails', 'tails', 'heads',\n",
              "       'heads', 'tails', 'tails', 'heads', 'tails', 'heads', 'tails',\n",
              "       'heads', 'tails', 'tails', 'tails', 'heads', 'heads', 'tails',\n",
              "       'tails', 'tails', 'heads', 'tails', 'tails', 'tails', 'tails',\n",
              "       'tails', 'tails', 'heads', 'heads', 'tails', 'tails', 'heads',\n",
              "       'tails', 'heads', 'heads', 'tails', 'heads', 'heads', 'heads',\n",
              "       'tails', 'tails', 'tails', 'tails', 'tails', 'tails', 'tails',\n",
              "       'tails', 'heads', 'tails', 'heads', 'heads', 'tails', 'heads',\n",
              "       'tails', 'tails', 'tails', 'heads', 'heads', 'heads', 'tails',\n",
              "       'tails', 'tails', 'tails', 'heads', 'tails', 'tails', 'tails',\n",
              "       'heads', 'tails', 'heads', 'tails', 'tails', 'tails', 'tails',\n",
              "       'tails', 'heads', 'tails', 'tails', 'tails', 'tails', 'heads',\n",
              "       'tails', 'tails', 'tails', 'heads', 'tails', 'tails', 'tails',\n",
              "       'heads', 'tails', 'tails', 'tails', 'heads', 'tails', 'tails',\n",
              "       'tails', 'tails', 'tails', 'tails', 'tails', 'tails', 'tails',\n",
              "       'tails', 'tails', 'tails', 'heads', 'tails', 'tails', 'heads',\n",
              "       'tails', 'tails', 'tails', 'heads', 'heads', 'tails', 'tails',\n",
              "       'heads', 'tails', 'tails', 'tails', 'tails', 'tails', 'heads',\n",
              "       'heads', 'tails', 'heads', 'heads', 'tails', 'heads', 'heads',\n",
              "       'heads', 'tails', 'tails', 'heads', 'tails', 'heads', 'heads',\n",
              "       'tails', 'heads', 'tails', 'tails', 'tails', 'heads', 'heads',\n",
              "       'heads', 'tails', 'tails', 'heads', 'tails', 'tails', 'tails',\n",
              "       'tails', 'tails', 'heads', 'tails', 'heads', 'heads', 'tails',\n",
              "       'heads', 'tails', 'tails', 'tails', 'tails', 'tails', 'tails',\n",
              "       'heads', 'tails', 'heads', 'heads', 'tails', 'heads', 'tails',\n",
              "       'heads', 'heads', 'heads', 'tails', 'tails', 'tails', 'tails',\n",
              "       'tails', 'tails', 'heads', 'tails', 'heads', 'heads', 'tails',\n",
              "       'tails', 'tails', 'heads', 'heads', 'tails', 'tails', 'heads',\n",
              "       'tails', 'tails', 'tails', 'tails', 'tails', 'tails', 'tails',\n",
              "       'heads', 'tails', 'heads', 'heads', 'tails', 'heads', 'tails',\n",
              "       'heads', 'heads', 'tails', 'tails', 'tails', 'tails', 'tails',\n",
              "       'tails', 'tails', 'heads', 'heads', 'tails', 'tails', 'tails',\n",
              "       'tails', 'tails', 'tails', 'tails', 'tails', 'tails', 'tails',\n",
              "       'tails', 'heads', 'tails', 'heads', 'tails', 'heads', 'tails',\n",
              "       'tails', 'heads', 'heads', 'tails', 'heads', 'heads', 'heads',\n",
              "       'tails', 'heads', 'tails', 'heads', 'heads', 'tails', 'tails',\n",
              "       'heads', 'tails', 'tails', 'tails', 'tails', 'tails', 'tails',\n",
              "       'tails', 'heads', 'tails', 'tails', 'tails', 'tails', 'heads',\n",
              "       'heads', 'tails', 'tails', 'tails', 'tails', 'tails', 'tails',\n",
              "       'heads', 'heads', 'heads', 'tails', 'tails', 'heads', 'tails',\n",
              "       'tails', 'tails', 'tails', 'tails', 'heads', 'heads', 'tails',\n",
              "       'tails', 'heads', 'tails', 'tails', 'tails', 'heads', 'tails',\n",
              "       'heads', 'tails', 'tails', 'tails', 'tails', 'tails', 'tails',\n",
              "       'heads', 'tails', 'heads', 'tails', 'tails', 'tails', 'tails',\n",
              "       'tails', 'tails', 'tails', 'tails', 'heads', 'tails', 'tails',\n",
              "       'tails', 'tails', 'tails', 'heads', 'tails', 'heads', 'tails',\n",
              "       'tails', 'heads', 'tails', 'tails', 'tails', 'tails', 'heads',\n",
              "       'tails', 'tails', 'tails', 'tails', 'heads', 'tails', 'tails',\n",
              "       'tails', 'tails', 'tails', 'heads', 'tails', 'tails', 'heads',\n",
              "       'tails', 'tails', 'tails', 'tails', 'heads', 'heads', 'tails',\n",
              "       'tails', 'heads', 'tails', 'heads', 'tails', 'tails', 'heads',\n",
              "       'heads', 'tails', 'tails', 'tails', 'heads', 'tails', 'tails',\n",
              "       'heads', 'tails', 'heads', 'heads', 'tails', 'tails', 'tails',\n",
              "       'heads', 'tails', 'heads', 'heads', 'tails', 'heads', 'tails',\n",
              "       'tails', 'heads', 'tails', 'tails', 'tails', 'heads', 'tails',\n",
              "       'heads', 'heads', 'tails', 'tails', 'heads', 'heads', 'tails',\n",
              "       'tails', 'tails', 'tails', 'heads', 'tails', 'tails', 'tails',\n",
              "       'tails', 'tails', 'tails', 'tails', 'tails', 'tails', 'tails',\n",
              "       'tails', 'tails', 'heads', 'tails', 'heads', 'tails', 'tails',\n",
              "       'tails', 'heads', 'tails', 'tails', 'tails', 'tails', 'heads',\n",
              "       'tails', 'heads', 'tails', 'tails', 'heads', 'heads', 'tails',\n",
              "       'tails', 'tails', 'heads', 'heads', 'heads', 'tails', 'tails',\n",
              "       'heads', 'tails', 'tails', 'tails', 'tails', 'tails', 'tails',\n",
              "       'heads', 'tails', 'tails', 'tails', 'tails', 'tails', 'heads',\n",
              "       'tails', 'tails', 'tails', 'tails', 'heads', 'tails', 'tails',\n",
              "       'tails', 'heads', 'tails', 'tails', 'tails', 'tails', 'heads',\n",
              "       'heads', 'tails', 'tails', 'tails', 'tails', 'tails', 'tails',\n",
              "       'tails', 'heads', 'heads', 'tails', 'tails', 'tails', 'heads',\n",
              "       'tails', 'heads', 'tails', 'tails', 'tails', 'heads', 'tails',\n",
              "       'tails', 'tails', 'tails', 'tails', 'tails', 'tails', 'heads',\n",
              "       'heads', 'tails', 'tails', 'tails', 'tails', 'tails', 'heads',\n",
              "       'tails', 'tails', 'heads', 'tails', 'heads', 'tails', 'heads',\n",
              "       'tails', 'heads', 'tails', 'heads', 'tails', 'tails', 'heads',\n",
              "       'tails', 'heads', 'tails', 'tails', 'heads', 'tails', 'heads',\n",
              "       'heads', 'tails', 'heads', 'tails', 'heads', 'heads', 'heads',\n",
              "       'heads', 'tails', 'tails', 'tails', 'tails', 'tails', 'heads',\n",
              "       'tails', 'heads', 'heads', 'tails', 'heads', 'tails', 'tails',\n",
              "       'heads', 'tails', 'tails', 'tails', 'tails', 'tails', 'heads',\n",
              "       'tails', 'tails', 'tails', 'tails', 'heads', 'heads', 'tails',\n",
              "       'tails', 'tails', 'tails', 'tails', 'heads', 'tails', 'tails',\n",
              "       'heads', 'tails', 'tails', 'tails', 'heads', 'tails', 'tails',\n",
              "       'tails', 'tails', 'heads', 'tails', 'tails', 'tails', 'tails',\n",
              "       'tails', 'tails', 'tails', 'tails', 'tails', 'tails', 'tails',\n",
              "       'heads', 'heads', 'heads', 'tails', 'tails', 'tails', 'tails',\n",
              "       'tails', 'heads', 'heads', 'heads', 'tails', 'tails', 'heads',\n",
              "       'heads', 'tails', 'tails', 'tails', 'tails', 'tails', 'tails',\n",
              "       'tails', 'tails', 'tails', 'tails', 'tails', 'tails', 'tails',\n",
              "       'tails', 'tails', 'tails', 'tails', 'heads', 'tails', 'tails',\n",
              "       'tails', 'tails', 'heads', 'heads', 'tails', 'tails', 'tails',\n",
              "       'tails', 'tails', 'tails', 'heads', 'tails', 'tails', 'tails',\n",
              "       'heads', 'tails', 'tails', 'tails', 'tails', 'tails', 'tails',\n",
              "       'tails', 'tails', 'tails', 'tails', 'heads', 'tails', 'heads',\n",
              "       'heads', 'tails', 'heads', 'heads', 'tails', 'tails', 'tails',\n",
              "       'heads', 'heads', 'tails', 'tails', 'tails', 'tails', 'tails',\n",
              "       'tails', 'tails', 'tails', 'heads', 'heads', 'heads', 'tails',\n",
              "       'tails', 'tails', 'tails', 'tails', 'tails', 'tails', 'tails',\n",
              "       'tails', 'tails', 'tails', 'tails', 'tails', 'tails', 'heads',\n",
              "       'tails', 'tails', 'tails', 'heads', 'tails', 'tails', 'tails',\n",
              "       'tails', 'tails', 'tails', 'tails', 'tails', 'tails', 'tails',\n",
              "       'tails', 'tails', 'tails', 'tails', 'tails', 'tails', 'heads',\n",
              "       'tails', 'heads', 'heads', 'tails', 'heads', 'heads', 'tails',\n",
              "       'tails', 'tails', 'tails', 'tails', 'heads', 'tails', 'tails',\n",
              "       'tails', 'tails', 'tails', 'tails', 'tails', 'tails', 'heads',\n",
              "       'heads', 'heads', 'heads', 'heads', 'tails', 'tails', 'tails',\n",
              "       'tails', 'heads', 'tails', 'tails', 'tails', 'tails', 'tails',\n",
              "       'heads', 'heads', 'tails', 'tails', 'tails', 'tails', 'heads',\n",
              "       'tails', 'tails', 'tails', 'tails', 'tails', 'tails', 'tails',\n",
              "       'heads', 'tails', 'heads', 'tails', 'tails', 'heads', 'heads',\n",
              "       'tails', 'tails', 'heads', 'tails', 'tails', 'heads', 'heads',\n",
              "       'tails', 'tails', 'heads', 'tails', 'tails', 'tails', 'heads',\n",
              "       'tails', 'heads', 'heads', 'tails', 'tails', 'tails', 'tails',\n",
              "       'heads', 'tails', 'tails', 'tails', 'tails', 'tails', 'heads',\n",
              "       'tails', 'tails', 'tails', 'tails', 'tails', 'heads', 'tails',\n",
              "       'heads', 'tails', 'tails', 'tails', 'tails', 'heads', 'tails',\n",
              "       'tails', 'tails', 'tails', 'heads', 'tails', 'tails', 'tails',\n",
              "       'tails', 'tails', 'tails', 'tails', 'tails', 'heads', 'heads',\n",
              "       'heads', 'tails', 'tails', 'tails', 'heads', 'heads', 'heads',\n",
              "       'heads', 'tails', 'heads', 'tails', 'tails', 'tails', 'tails',\n",
              "       'heads', 'heads', 'heads', 'heads', 'tails', 'tails', 'tails',\n",
              "       'heads', 'heads', 'tails', 'heads', 'tails', 'heads', 'tails',\n",
              "       'tails', 'tails', 'tails', 'heads', 'tails', 'heads', 'tails',\n",
              "       'tails', 'tails', 'heads', 'tails', 'tails', 'tails', 'tails',\n",
              "       'heads', 'tails', 'heads', 'heads', 'tails', 'heads', 'tails',\n",
              "       'heads', 'tails', 'heads', 'tails', 'heads', 'tails', 'tails',\n",
              "       'heads', 'tails', 'tails', 'heads', 'tails', 'tails', 'tails',\n",
              "       'heads', 'tails', 'heads', 'tails', 'heads', 'heads', 'heads',\n",
              "       'tails', 'tails', 'tails', 'tails', 'tails', 'heads', 'tails',\n",
              "       'tails', 'tails', 'heads', 'tails', 'heads', 'tails', 'tails',\n",
              "       'tails', 'tails', 'tails', 'heads', 'heads', 'heads', 'tails',\n",
              "       'heads', 'tails', 'tails', 'tails', 'tails', 'tails', 'tails',\n",
              "       'tails', 'heads', 'tails', 'tails', 'heads', 'heads'], dtype='<U5')"
            ]
          },
          "metadata": {},
          "execution_count": 24
        }
      ]
    },
    {
      "cell_type": "code",
      "source": [
        "print(np.sum(throws_with_p == \"heads\"))\n",
        "print(np.sum(throws_with_p == \"tails\"))"
      ],
      "metadata": {
        "colab": {
          "base_uri": "https://localhost:8080/"
        },
        "id": "ISo0Eu5Kp1vp",
        "outputId": "d12c7182-3480-45a1-b2ab-ec680fc4c323"
      },
      "execution_count": 30,
      "outputs": [
        {
          "output_type": "stream",
          "name": "stdout",
          "text": [
            "310\n",
            "690\n"
          ]
        }
      ]
    },
    {
      "cell_type": "code",
      "source": [
        "# coin landing on a side\n",
        "import numpy as np\n",
        "coin = ['heads', 'tails', 'side']\n",
        "probabilities = [0.49165, 0.49165, 0.0167] # the probability of the coin landing on a side is 0.0167\n",
        "number_of_throws = 100000\n",
        "throws = np.random.choice(coin, number_of_throws, p = probabilities)\n",
        "throws_with_p = np.random.choice(coin, number_of_throws, p= probabilities)\n",
        "print(np.sum(throws_with_p == \"heads\"))\n",
        "print(np.sum(throws_with_p == \"tails\"))\n",
        "print(np.sum(throws_with_p == \"side\"))\n"
      ],
      "metadata": {
        "colab": {
          "base_uri": "https://localhost:8080/"
        },
        "id": "_7L4vq4pqrTI",
        "outputId": "7a88c4a4-3287-4b38-d108-eb2a16da31f1"
      },
      "execution_count": 33,
      "outputs": [
        {
          "output_type": "stream",
          "name": "stdout",
          "text": [
            "49164\n",
            "49137\n",
            "1699\n"
          ]
        }
      ]
    },
    {
      "cell_type": "code",
      "source": [
        "unique, counts = np.unique(throws, return_counts=True)"
      ],
      "metadata": {
        "id": "UmP5OD8ytWak"
      },
      "execution_count": 34,
      "outputs": []
    },
    {
      "cell_type": "code",
      "source": [
        "print(counts)"
      ],
      "metadata": {
        "colab": {
          "base_uri": "https://localhost:8080/"
        },
        "id": "P_CVJGoetq5y",
        "outputId": "798718a6-38fe-4954-fc5c-e988a9117524"
      },
      "execution_count": 35,
      "outputs": [
        {
          "output_type": "stream",
          "name": "stdout",
          "text": [
            "[49181  1595 49224]\n"
          ]
        }
      ]
    },
    {
      "cell_type": "code",
      "source": [
        "import matplotlib.pyplot as plt\n",
        "plt.bar(unique, counts)\n"
      ],
      "metadata": {
        "colab": {
          "base_uri": "https://localhost:8080/",
          "height": 448
        },
        "id": "d0UJh-gttveb",
        "outputId": "f3f80fa3-6621-4bd1-d2c5-8666059fb74f"
      },
      "execution_count": 36,
      "outputs": [
        {
          "output_type": "execute_result",
          "data": {
            "text/plain": [
              "<BarContainer object of 3 artists>"
            ]
          },
          "metadata": {},
          "execution_count": 36
        },
        {
          "output_type": "display_data",
          "data": {
            "text/plain": [
              "<Figure size 640x480 with 1 Axes>"
            ],
            "image/png": "[encoded data removed]"
          },
          "metadata": {}
        }
      ]
    },
    {
      "cell_type": "markdown",
      "source": [
        "# HISTOGRAM"
      ],
      "metadata": {
        "id": "WfMRCwbiu96a"
      }
    },
    {
      "cell_type": "code",
      "source": [
        "np.random.randint(1, 100)\n",
        "\n",
        "np.random.randint(1, 100, 10)"
      ],
      "metadata": {
        "colab": {
          "base_uri": "https://localhost:8080/"
        },
        "id": "dZLHxn9EvAGm",
        "outputId": "509cfec5-b70d-412b-f6da-cee031dde66a"
      },
      "execution_count": 37,
      "outputs": [
        {
          "output_type": "execute_result",
          "data": {
            "text/plain": [
              "array([46, 61, 43, 71, 11, 43, 80, 76, 79, 98])"
            ]
          },
          "metadata": {},
          "execution_count": 37
        }
      ]
    },
    {
      "cell_type": "code",
      "source": [
        "numbers = np.random.randint(1, 100, 100000)"
      ],
      "metadata": {
        "id": "PVwuD0y2vgIU"
      },
      "execution_count": 39,
      "outputs": []
    },
    {
      "cell_type": "markdown",
      "source": [],
      "metadata": {
        "id": "G3ljWyegwZ1l"
      }
    },
    {
      "cell_type": "code",
      "source": [
        "plt.hist(numbers, bins = 10, color = 'skyblue', edgecolor = 'black', alpha=0.7 )\n",
        "plt.title('Frequency of random integers from [1, 100]')\n"
      ],
      "metadata": {
        "colab": {
          "base_uri": "https://localhost:8080/",
          "height": 470
        },
        "id": "nXU6L5iyv0UJ",
        "outputId": "660f113c-c741-49c0-96e4-d38dee69377c"
      },
      "execution_count": 42,
      "outputs": [
        {
          "output_type": "execute_result",
          "data": {
            "text/plain": [
              "Text(0.5, 1.0, 'Frequency of random integers from [1, 100]')"
            ]
          },
          "metadata": {},
          "execution_count": 42
        },
        {
          "output_type": "display_data",
          "data": {
            "text/plain": [
              "<Figure size 640x480 with 1 Axes>"
            ],
            "image/png": "[encoded data removed]"
          },
          "metadata": {}
        }
      ]
    }
  ]
}