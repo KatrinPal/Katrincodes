{
  "nbformat": 4,
  "nbformat_minor": 0,
  "metadata": {
    "colab": {
      "provenance": [],
      "authorship_tag": "ABX9TyMnURYnvp5F+1xKtX8uiAue",
      "include_colab_link": true
    },
    "kernelspec": {
      "name": "python3",
      "display_name": "Python 3"
    },
    "language_info": {
      "name": "python"
    }
  },
  "cells": [
    {
      "cell_type": "markdown",
      "metadata": {
        "id": "view-in-github",
        "colab_type": "text"
      },
      "source": [
        "<a href=\"https://colab.research.google.com/github/KatrinPal/Katrincodes/blob/main/Regular_expressions_5_10_24.ipynb\" target=\"_parent\"><img src=\"https://colab.research.google.com/assets/colab-badge.svg\" alt=\"Open In Colab\"/></a>"
      ]
    },
    {
      "cell_type": "code",
      "execution_count": 2,
      "metadata": {
        "id": "mbcA6MuSizwm"
      },
      "outputs": [],
      "source": [
        "import re # regular expressions module"
      ]
    },
    {
      "cell_type": "code",
      "source": [
        "text = \"\"\"\n",
        "Alice: 555-123-4567\n",
        "Bob: 333-987-6543\n",
        "Charlie: 777-555-88\n",
        "\"\"\""
      ],
      "metadata": {
        "id": "L8If53rvk_oK"
      },
      "execution_count": 3,
      "outputs": []
    },
    {
      "cell_type": "code",
      "source": [
        "#correct format is 3-3-4\n",
        "\n",
        "pattern = r'\\d{3}-\\d{3}-\\d{4}'\n",
        "matches = re.findall(pattern, text)\n",
        "print(matches)\n",
        "\n",
        "# required output: 555-123-4567, 333-987-6543"
      ],
      "metadata": {
        "colab": {
          "base_uri": "https://localhost:8080/"
        },
        "id": "Xa_f16DolKFT",
        "outputId": "43c1f273-660d-419f-f9d1-8901351e69fb"
      },
      "execution_count": 6,
      "outputs": [
        {
          "output_type": "stream",
          "name": "stdout",
          "text": [
            "['555-123-4567', '333-987-6543']\n"
          ]
        }
      ]
    },
    {
      "cell_type": "code",
      "source": [],
      "metadata": {
        "id": "gLXj8m-ul13v"
      },
      "execution_count": null,
      "outputs": []
    },
    {
      "cell_type": "code",
      "source": [
        "# re.search - first occurance of a pattern\n",
        "# re.findall - finds all the occurances\n",
        "# re.IGNORECASE - PATTERN MATCHING IS CASE-insensitive"
      ],
      "metadata": {
        "id": "_G5V-eQilO5O"
      },
      "execution_count": null,
      "outputs": []
    },
    {
      "cell_type": "markdown",
      "source": [
        "### Dates pattern matching"
      ],
      "metadata": {
        "id": "nJsVE4pspqNx"
      }
    },
    {
      "cell_type": "code",
      "source": [
        "dates = \"\"\"\n",
        "My dates are: 05-10-2024 and 2022-10-05\n",
        "\"\"\"\n",
        "\n",
        "pattern2 = r'\\d{4}-\\d{2}-\\d{2}'\n",
        "matches2 = re.findall(pattern2, dates)\n",
        "print(matches2)"
      ],
      "metadata": {
        "colab": {
          "base_uri": "https://localhost:8080/"
        },
        "id": "K3tk2cOaozvs",
        "outputId": "4134ccb6-6fe5-4c69-d815-3098c1996ad5"
      },
      "execution_count": 9,
      "outputs": [
        {
          "output_type": "stream",
          "name": "stdout",
          "text": [
            "['2022-10-05']\n"
          ]
        }
      ]
    },
    {
      "cell_type": "markdown",
      "source": [
        "### E-mail addresses matching"
      ],
      "metadata": {
        "id": "UJYrTd43rpDn"
      }
    },
    {
      "cell_type": "code",
      "source": [
        "emails = \"\"\"\n",
        "Emails: liza@example.com, roberta@gmail.com, info@company.net\n",
        "\"\"\"\n",
        "\n",
        "pattern3 = r'\\b[A-Za-z0-9._%+-]+@[A-Za-z0-9.-]+\\.[A-Z|a-z]{2,7}\\b'\n",
        "matches3 = re.findall(pattern3, emails)\n",
        "print(matches3)\n",
        "\n",
        "# requested output ['liza@example.com', 'roberta@gmail.com', 'info@company.net']"
      ],
      "metadata": {
        "colab": {
          "base_uri": "https://localhost:8080/"
        },
        "id": "suiu-AWBo4qP",
        "outputId": "56dac089-d018-4946-faa7-81f2e01bd0c3"
      },
      "execution_count": 10,
      "outputs": [
        {
          "output_type": "stream",
          "name": "stdout",
          "text": [
            "['liza@example.com', 'roberta@gmail.com', 'info@company.net']\n"
          ]
        }
      ]
    },
    {
      "cell_type": "code",
      "source": [
        "# different example for the same thing (Robertas example)\n",
        "emails = \"\"\"\n",
        "Emails: liza@example.com, roberta@gmail.com, info@company.net\n",
        "\"\"\"\n",
        "\n",
        "my_interesting_letters = r'\\b[A-Za-z0-9._%+-]+@[A-Za-z0-9.-]+\\.[A-Z|a-z]{2,}\\b'\n",
        "\n",
        "# requested output ['liza@example.com', 'roberta@gmail.com', 'info@company.net']\n",
        "\n",
        "matches = re.findall(my_interesting_letters, emails)\n",
        "\n",
        "print(matches)"
      ],
      "metadata": {
        "colab": {
          "base_uri": "https://localhost:8080/"
        },
        "id": "ATvKhpoCuWqS",
        "outputId": "01c13b1e-cbd9-4dbb-b29b-973fcfe44b8a"
      },
      "execution_count": 11,
      "outputs": [
        {
          "output_type": "stream",
          "name": "stdout",
          "text": [
            "['liza@example.com', 'roberta@gmail.com', 'info@company.net']\n"
          ]
        }
      ]
    }
  ]
}