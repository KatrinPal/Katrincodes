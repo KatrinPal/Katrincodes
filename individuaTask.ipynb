{
  "nbformat": 4,
  "nbformat_minor": 0,
  "metadata": {
    "colab": {
      "provenance": [],
      "authorship_tag": "ABX9TyPO1PO1aZ8lIv1a8lU4e7Q2",
      "include_colab_link": true
    },
    "kernelspec": {
      "name": "python3",
      "display_name": "Python 3"
    },
    "language_info": {
      "name": "python"
    }
  },
  "cells": [
    {
      "cell_type": "markdown",
      "metadata": {
        "id": "view-in-github",
        "colab_type": "text"
      },
      "source": [
        "<a href=\"https://colab.research.google.com/github/KatrinPal/Katrincodes/blob/main/individuaTask.ipynb\" target=\"_parent\"><img src=\"https://colab.research.google.com/assets/colab-badge.svg\" alt=\"Open In Colab\"/></a>"
      ]
    },
    {
      "cell_type": "code",
      "execution_count": 3,
      "metadata": {
        "colab": {
          "base_uri": "https://localhost:8080/"
        },
        "id": "UqdViBmO94dL",
        "outputId": "209ba7a4-82c8-48c7-9846-5c3a82f76178"
      },
      "outputs": [
        {
          "output_type": "stream",
          "name": "stdout",
          "text": [
            "Total Price: 17.32\n",
            "Total Number of Items: 5\n"
          ]
        }
      ],
      "source": [
        "filename = '/content/prices.txt'\n",
        "\n",
        "with open(filename, 'r') as file:\n",
        "    content = file.read()\n",
        "\n",
        "lines = content.strip().split('\\n')\n",
        "\n",
        "total_price = 0.0\n",
        "total_items = 0\n",
        "\n",
        "for line in lines:\n",
        "    try:\n",
        "        price = float(line.strip())\n",
        "        total_price += price\n",
        "        total_items += 1\n",
        "    except ValueError:\n",
        "        continue\n",
        "\n",
        "print(f\"Total Price: {total_price}\")\n",
        "print(f\"Total Number of Items: {total_items}\")\n"
      ]
    }
  ]
}