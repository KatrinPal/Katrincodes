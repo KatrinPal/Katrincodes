{
  "cells": [
    {
      "cell_type": "markdown",
      "metadata": {
        "id": "view-in-github",
        "colab_type": "text"
      },
      "source": [
        "<a href=\"https://colab.research.google.com/github/KatrinPal/Katrincodes/blob/main/group_class_tasks1.ipynb\" target=\"_parent\"><img src=\"https://colab.research.google.com/assets/colab-badge.svg\" alt=\"Open In Colab\"/></a>"
      ]
    },
    {
      "cell_type": "markdown",
      "metadata": {
        "id": "q9m6m-6M0xC4"
      },
      "source": [
        "### Task 1 Calculate the Body Mass Index (BMI)"
      ]
    },
    {
      "cell_type": "markdown",
      "metadata": {
        "id": "6Yalt1nq0xC6"
      },
      "source": [
        "Description:\n",
        "Body Mass Index (BMI) is a measure of body fat based on height and weight. It is calculated by dividing a person's weight in kilograms by the square of their height in meters. The formula for BMI is:\n",
        "\n",
        "\\[BMI = \\frac{weight (kg)}{height (m)^2}\\]\n",
        "\n",
        "Write a Python program that prompts the user to enter their weight in kilograms and their height in meters, then calculates and displays their BMI.\n",
        "\n",
        "Example Output:\n",
        "```\n",
        "Enter your weight in kilograms: 70\n",
        "Enter your height in meters: 1.75\n",
        "Your BMI is: 22.86\n",
        "```\n",
        "\n",
        "Your task is to write Python code to achieve the above functionality."
      ]
    },
    {
      "cell_type": "code",
      "execution_count": null,
      "metadata": {
        "colab": {
          "base_uri": "https://localhost:8080/"
        },
        "id": "FuOLucAt0xC6",
        "outputId": "a8ab252d-62d8-419c-e9e4-27715c38893e"
      },
      "outputs": [
        {
          "output_type": "stream",
          "name": "stdout",
          "text": [
            "enter weight in kilograms: 68\n",
            "enter height in meters: 1.64\n",
            "Your BMI is: 25.28\n"
          ]
        }
      ],
      "source": [
        "# Calculate BMI (Body Mass Index) using weight in kilograms and height in meters.\n",
        "\n",
        "weight = float(input(\"enter weight in kilograms: \"))\n",
        "height = float(input(\"enter height in meters: \"))\n",
        "bmi = round(weight / height ** 2, 2)\n",
        "\n",
        "print(f'Your BMI is: {bmi}')\n",
        "\n",
        "\n"
      ]
    },
    {
      "cell_type": "markdown",
      "metadata": {
        "id": "G5x943EO0xC7"
      },
      "source": [
        "### Task 2: Calculate the Area of a Triangle"
      ]
    },
    {
      "cell_type": "code",
      "execution_count": null,
      "metadata": {
        "id": "Vs4M6T1y0xC7"
      },
      "outputs": [],
      "source": [
        "\n",
        "# Prompting the user to enter the distance in miles\n",
        "miles =\n",
        "\n",
        "# Converting miles to kilometers (1 mile = 1.60934 kilometers)\n",
        "kilometers =\n",
        "\n",
        "# Displaying the result\n",
        "print(\"Distance in Kilometers:\", kilometers)"
      ]
    },
    {
      "cell_type": "code",
      "execution_count": null,
      "metadata": {
        "id": "PXQW6XmG0xC7"
      },
      "outputs": [],
      "source": [
        "# Your code"
      ]
    },
    {
      "cell_type": "markdown",
      "metadata": {
        "id": "MStc7HGV0xC7"
      },
      "source": []
    }
  ],
  "metadata": {
    "language_info": {
      "name": "python"
    },
    "colab": {
      "provenance": [],
      "include_colab_link": true
    },
    "kernelspec": {
      "name": "python3",
      "display_name": "Python 3"
    }
  },
  "nbformat": 4,
  "nbformat_minor": 0
}