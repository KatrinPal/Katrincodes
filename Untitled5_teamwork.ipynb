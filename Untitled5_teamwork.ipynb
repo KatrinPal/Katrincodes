{
  "nbformat": 4,
  "nbformat_minor": 0,
  "metadata": {
    "colab": {
      "provenance": [],
      "authorship_tag": "ABX9TyOrvDInnHsxMzwrfjcaKhWl",
      "include_colab_link": true
    },
    "kernelspec": {
      "name": "python3",
      "display_name": "Python 3"
    },
    "language_info": {
      "name": "python"
    }
  },
  "cells": [
    {
      "cell_type": "markdown",
      "metadata": {
        "id": "view-in-github",
        "colab_type": "text"
      },
      "source": [
        "<a href=\"https://colab.research.google.com/github/KatrinPal/Katrincodes/blob/main/Untitled5_teamwork.ipynb\" target=\"_parent\"><img src=\"https://colab.research.google.com/assets/colab-badge.svg\" alt=\"Open In Colab\"/></a>"
      ]
    },
    {
      "cell_type": "markdown",
      "source": [
        "# Team work: Review what different methods are built in for STRING objects. Write a program with for loop and list where user needs to input a STRING value, and program needs to check if the value is in the list. Use string methods to standardize the user input."
      ],
      "metadata": {
        "id": "OAvB31RN35_H"
      }
    },
    {
      "cell_type": "code",
      "execution_count": null,
      "metadata": {
        "colab": {
          "base_uri": "https://localhost:8080/"
        },
        "id": "VE-dVAc13vmm",
        "outputId": "1179e51c-546d-4463-af17-3f8a0d2d0a67"
      },
      "outputs": [
        {
          "output_type": "stream",
          "name": "stdout",
          "text": [
            "enter a name: Katrin\n",
            "Katrin, you are not in the list!\n"
          ]
        }
      ],
      "source": [
        "party_list = ['Deivi', 'Regina', 'Maarika', 'Piret', 'Merje', 'Lia']\n",
        "user_input = input('enter a name: ')\n",
        "for name in party_list:\n",
        "  if user_input == name:\n",
        "    print(f'{user_input} You are invited ')\n",
        "    break\n",
        "else:\n",
        "  print(f'{user_input}, you are not in the list!')\n"
      ]
    }
  ]
}