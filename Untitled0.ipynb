{
  "nbformat": 4,
  "nbformat_minor": 0,
  "metadata": {
    "colab": {
      "provenance": [],
      "authorship_tag": "ABX9TyPv6Ai4QIbX6N69PJ5UquqT",
      "include_colab_link": true
    },
    "kernelspec": {
      "name": "python3",
      "display_name": "Python 3"
    },
    "language_info": {
      "name": "python"
    }
  },
  "cells": [
    {
      "cell_type": "markdown",
      "metadata": {
        "id": "view-in-github",
        "colab_type": "text"
      },
      "source": [
        "<a href=\"https://colab.research.google.com/github/KatrinPal/Katrincodes/blob/main/Untitled0.ipynb\" target=\"_parent\"><img src=\"https://colab.research.google.com/assets/colab-badge.svg\" alt=\"Open In Colab\"/></a>"
      ]
    },
    {
      "cell_type": "code",
      "execution_count": null,
      "metadata": {
        "colab": {
          "base_uri": "https://localhost:8080/"
        },
        "id": "hZQ_50RkYUrz",
        "outputId": "5f5c50ce-3601-49f6-9ede-8436d54f5f8d"
      },
      "outputs": [
        {
          "output_type": "stream",
          "name": "stdout",
          "text": [
            "Good Morning WoTech\n",
            "14\n",
            "Good morning WoTech!\n",
            "14\n"
          ]
        }
      ],
      "source": [
        "data = \"Good Morning WoTech\" #we assaign a text value to this variable\n",
        "print(data)\n",
        "\n",
        "# this is a comment\n",
        "# another comment\n",
        "\n",
        "#lets us now assign a number\n",
        "data = 14\n",
        "print(data)\n",
        "\n",
        "# this is a comment\n",
        "# another comment\n",
        "# go on\n",
        "\n",
        "this_is_a_variable = \"Good morning WoTech!\" #we assign a text value to this variable\n",
        "print(this_is_a_variable)\n",
        "\n",
        "# lest us now assign a number\n",
        "this_is_a_variable = 14\n",
        "print(this_is_a_variable)"
      ]
    },
    {
      "cell_type": "code",
      "source": [
        "name = \"Anna\" #text/string\n",
        "surename = \"jamama\" #text/string\n",
        "age = 35 #integer\n",
        "occupation = \"programmer\" #text/string\n",
        "university_graduate = False #boolean\n",
        "height = 172.23 #float\n",
        "print(name, surename, age, occupation, university_graduate, height)\n",
        "name = \"Anna\" #text/string\n",
        "surname = \"Johnson\" #text/string\n",
        "age = 35 #integer\n",
        "occupation = \"Programmer\" #text/string\n",
        "university_graduate = False #boolean\n",
        "height = 172.23 #float\n",
        "\n",
        "print(name, surname, age, occupation, university_graduate, height)\n",
        "print(f\"Full name: {name} {surname}\\nOccupation: {occupation}\\nUni degree: {university_graduate}\")\n"
      ],
      "metadata": {
        "colab": {
          "base_uri": "https://localhost:8080/"
        },
        "id": "xKhCN8hefKoQ",
        "outputId": "f5136973-3093-4527-a52a-a3aedc48e7f1"
      },
      "execution_count": null,
      "outputs": [
        {
          "output_type": "stream",
          "name": "stdout",
          "text": [
            "Anna jamama 35 programmer False 172.23\n"
          ]
        }
      ]
    },
    {
      "cell_type": "code",
      "source": [
        "# we are preparing for a party\n",
        "guest1 = \"John\"\n",
        "guest2 = \"Anna\"\n",
        "guest2 =\"Jennifer\"\n",
        "\n",
        "guests = [\"John\", \"Anna\", \"Jennifer\"]\n",
        "print(guests)\n",
        "for guest in guests:\n",
        "  print(guest)"
      ],
      "metadata": {
        "colab": {
          "base_uri": "https://localhost:8080/"
        },
        "id": "a9YGfPC0kO5J",
        "outputId": "82c62e34-2ddb-426c-8f82-a459e3d9428e"
      },
      "execution_count": null,
      "outputs": [
        {
          "output_type": "stream",
          "name": "stdout",
          "text": [
            "['John', 'Anna', 'Jennifer']\n",
            "John\n",
            "Anna\n",
            "Jennifer\n"
          ]
        }
      ]
    },
    {
      "cell_type": "code",
      "source": [
        "var_1 = 100\n",
        "print(var_1)"
      ],
      "metadata": {
        "colab": {
          "base_uri": "https://localhost:8080/"
        },
        "id": "hqyQc8N-nSjk",
        "outputId": "b61f3b30-5aab-4779-eb92-91ac98c88f3f"
      },
      "execution_count": null,
      "outputs": [
        {
          "output_type": "stream",
          "name": "stdout",
          "text": [
            "100\n"
          ]
        }
      ]
    },
    {
      "cell_type": "code",
      "source": [
        "test_2"
      ],
      "metadata": {
        "colab": {
          "base_uri": "https://localhost:8080/",
          "height": 141
        },
        "id": "HRLgp3_HnpnO",
        "outputId": "774a7a78-fefb-44f9-87b4-74b56fb624fb"
      },
      "execution_count": null,
      "outputs": [
        {
          "output_type": "error",
          "ename": "NameError",
          "evalue": "name 'test_2' is not defined",
          "traceback": [
            "\u001b[0;31m---------------------------------------------------------------------------\u001b[0m",
            "\u001b[0;31mNameError\u001b[0m                                 Traceback (most recent call last)",
            "\u001b[0;32m<ipython-input-1-a0b1117c9cc0>\u001b[0m in \u001b[0;36m<cell line: 1>\u001b[0;34m()\u001b[0m\n\u001b[0;32m----> 1\u001b[0;31m \u001b[0mtest_2\u001b[0m\u001b[0;34m\u001b[0m\u001b[0;34m\u001b[0m\u001b[0m\n\u001b[0m",
            "\u001b[0;31mNameError\u001b[0m: name 'test_2' is not defined"
          ]
        }
      ]
    },
    {
      "cell_type": "code",
      "source": [
        "name = \"trees \"*10\n",
        "print(name, end=\"\")"
      ],
      "metadata": {
        "colab": {
          "base_uri": "https://localhost:8080/"
        },
        "id": "dN6EdNcdoL47",
        "outputId": "f19f9b32-41b7-4217-d7f8-2b06621eec87"
      },
      "execution_count": null,
      "outputs": [
        {
          "output_type": "stream",
          "name": "stdout",
          "text": [
            "trees trees trees trees trees trees trees trees trees trees \n"
          ]
        }
      ]
    },
    {
      "cell_type": "code",
      "source": [
        "name = input(\"Enter your name:\")\n",
        "\n",
        "print(f'Hello {name}, nice to meet you!')"
      ],
      "metadata": {
        "colab": {
          "base_uri": "https://localhost:8080/"
        },
        "id": "2RNv-Z8Jo3C-",
        "outputId": "59b1cf0e-793f-423f-fd1c-62faa735d13c"
      },
      "execution_count": null,
      "outputs": [
        {
          "output_type": "stream",
          "name": "stdout",
          "text": [
            "Enter your name:Katrin\n",
            "Hello Katrin, nice to meet you!\n"
          ]
        }
      ]
    },
    {
      "cell_type": "code",
      "source": [
        "print(f'Hello {name}, I would like to read the book Hamlet')"
      ],
      "metadata": {
        "colab": {
          "base_uri": "https://localhost:8080/"
        },
        "id": "ly72FzJZrwq5",
        "outputId": "ec0c44b0-59f8-4b2b-b7dd-ce4cb89a1f8e"
      },
      "execution_count": null,
      "outputs": [
        {
          "output_type": "stream",
          "name": "stdout",
          "text": [
            "Hello Katrin, I would like to read the book Hamlet\n"
          ]
        }
      ]
    },
    {
      "cell_type": "code",
      "source": [
        "name = 'Anna'\n",
        "surname = 'Johnson'\n",
        "print('Hello', name, '!')\n"
      ],
      "metadata": {
        "colab": {
          "base_uri": "https://localhost:8080/"
        },
        "id": "jSSIYM9Psj5-",
        "outputId": "a87a6f55-9fbe-4e07-d199-4658a4293414"
      },
      "execution_count": null,
      "outputs": [
        {
          "output_type": "stream",
          "name": "stdout",
          "text": [
            "Hello Anna !\n"
          ]
        }
      ]
    },
    {
      "cell_type": "code",
      "source": [
        "name = 'Katrin'\n",
        "surname = 'Johnson'\n",
        "\n",
        "print(f'{name} {surname} wants to read \"Hamlet\".')"
      ],
      "metadata": {
        "colab": {
          "base_uri": "https://localhost:8080/"
        },
        "id": "DbLT07zCvdSy",
        "outputId": "2443b03a-36e0-4ed5-b181-69f91269c5db"
      },
      "execution_count": null,
      "outputs": [
        {
          "output_type": "stream",
          "name": "stdout",
          "text": [
            "Katrin Johnson wants to read \"Hamlet\".\n"
          ]
        }
      ]
    },
    {
      "cell_type": "code",
      "source": [
        "name = 'Kalev'\n",
        "surname = 'Spa'\n",
        "gender = 'male'\n",
        "age = 35 #integer\n",
        "occupation = \"receptionist\" #text/string\n",
        "height = 172.23 #float\n",
        "bank_account_number = 1000029307646537645\n",
        "\n",
        "print(f'{name} {surname},{gender},{age},{height},{occupation},{bank_account_number} wants to earn more.')"
      ],
      "metadata": {
        "colab": {
          "base_uri": "https://localhost:8080/"
        },
        "id": "rW-EHTBBz7u8",
        "outputId": "79ebb513-3386-4880-e131-00cb09d4d90e"
      },
      "execution_count": null,
      "outputs": [
        {
          "output_type": "stream",
          "name": "stdout",
          "text": [
            "Kalev Spa,male,35,172.23,receptionist,1000029307646537645 wants to earn more.\n"
          ]
        }
      ]
    }
  ]
}