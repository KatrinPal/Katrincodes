{
  "nbformat": 4,
  "nbformat_minor": 0,
  "metadata": {
    "colab": {
      "provenance": []
    },
    "kernelspec": {
      "name": "python3",
      "display_name": "Python 3"
    },
    "language_info": {
      "name": "python"
    }
  },
  "cells": [
    {
      "cell_type": "code",
      "execution_count": 4,
      "metadata": {
        "colab": {
          "base_uri": "https://localhost:8080/"
        },
        "id": "6v1KuP1SAVnq",
        "outputId": "70415fc6-768e-4f1c-97ff-c6875281accd"
      },
      "outputs": [
        {
          "output_type": "stream",
          "name": "stdout",
          "text": [
            "Clients:\n",
            "Client: Katrin\n",
            "Transactions:\n",
            "Transaction for Katrin:\n",
            "- Item: Book, Price: €10\n",
            "  - Item: Pen, Price: €5\n",
            "Client: Triin\n",
            "Transactions:\n",
            "Transaction for Triin:\n",
            "- Item: Pen, Price: €5\n",
            "  - Item: Notebook, Price: €3\n",
            "Client: Sandra\n",
            "Transactions:\n",
            "Transaction for Sandra:\n",
            "- Item: Book, Price: €10\n",
            "  - Item: Notebook, Price: €3\n"
          ]
        }
      ],
      "source": [
        "class Client:\n",
        "    def __init__(self, name):\n",
        "        self.name = name\n",
        "        self.transactions = []\n",
        "\n",
        "    def add_transaction(self, transaction):\n",
        "        self.transactions.append(transaction)\n",
        "\n",
        "    def __str__(self):\n",
        "        return f\"Client: {self.name}\"\n",
        "\n",
        "class Item:\n",
        "    def __init__(self, name, price):\n",
        "        self.name = name\n",
        "        self.price = price\n",
        "\n",
        "    def __str__(self):\n",
        "        return f\"Item: {self.name}, Price: €{self.price}\"\n",
        "\n",
        "class Transaction:\n",
        "    def __init__(self, client, items):\n",
        "        self.client = client\n",
        "        self.items = items\n",
        "        client.add_transaction(self)\n",
        "\n",
        "    def __str__(self):\n",
        "        item_list = \"\"\n",
        "        for item in self.items:\n",
        "            item_list += f\"  - {item}\\n\"\n",
        "        item_list = item_list.strip()\n",
        "        return f\"Transaction for {self.client.name}:\\n{item_list}\"\n",
        "\n",
        "\n",
        "clients = [Client(\"Katrin\"), Client(\"Triin\"), Client(\"Sandra\")]\n",
        "\n",
        "items = [Item(\"Book\", 10), Item(\"Pen\", 5), Item(\"Notebook\", 3)]\n",
        "\n",
        "transactions = [\n",
        "    Transaction(clients[0], [items[0], items[1]]),\n",
        "    Transaction(clients[1], [items[1], items[2]]),\n",
        "    Transaction(clients[2], [items[0], items[2]])\n",
        "]\n",
        "\n",
        "print(\"Clients:\")\n",
        "for client in clients:\n",
        "    print(client)\n",
        "    print(\"Transactions:\")\n",
        "    for transaction in client.transactions:\n",
        "        print(transaction)"
      ]
    }
  ]
}