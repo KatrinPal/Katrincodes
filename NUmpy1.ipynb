{
  "nbformat": 4,
  "nbformat_minor": 0,
  "metadata": {
    "colab": {
      "provenance": [],
      "authorship_tag": "ABX9TyM3EGAqnYOCqtdqp3pOf2PS",
      "include_colab_link": true
    },
    "kernelspec": {
      "name": "python3",
      "display_name": "Python 3"
    },
    "language_info": {
      "name": "python"
    }
  },
  "cells": [
    {
      "cell_type": "markdown",
      "metadata": {
        "id": "view-in-github",
        "colab_type": "text"
      },
      "source": [
        "<a href=\"https://colab.research.google.com/github/KatrinPal/Katrincodes/blob/main/NUmpy1.ipynb\" target=\"_parent\"><img src=\"https://colab.research.google.com/assets/colab-badge.svg\" alt=\"Open In Colab\"/></a>"
      ]
    },
    {
      "cell_type": "code",
      "execution_count": 1,
      "metadata": {
        "id": "PsIyhWjR4tXR"
      },
      "outputs": [],
      "source": [
        "import numpy as np"
      ]
    },
    {
      "cell_type": "code",
      "source": [
        "coin = [\"Heads\", \"Tails\"] # this is 1-Dimensional array == list; or int"
      ],
      "metadata": {
        "id": "hI7beGlC5Iee"
      },
      "execution_count": 2,
      "outputs": []
    },
    {
      "cell_type": "code",
      "source": [
        "coin"
      ],
      "metadata": {
        "colab": {
          "base_uri": "https://localhost:8080/"
        },
        "id": "d9yev2M25UNb",
        "outputId": "88d40a0c-8ca3-4d8b-83e1-69dae1c8e7a8"
      },
      "execution_count": 3,
      "outputs": [
        {
          "output_type": "execute_result",
          "data": {
            "text/plain": [
              "['Heads', 'Tails']"
            ]
          },
          "metadata": {},
          "execution_count": 3
        }
      ]
    },
    {
      "cell_type": "code",
      "source": [
        "number_of_throws = 1000 # size of an array"
      ],
      "metadata": {
        "id": "8dk0b0Ir5Xp7"
      },
      "execution_count": 4,
      "outputs": []
    },
    {
      "cell_type": "code",
      "source": [
        "tosses = np.random.choice(coin, number_of_throws)  #https://numpy.org/doc/stable/reference/random/generated/numpy.random.choice.html"
      ],
      "metadata": {
        "collapsed": true,
        "id": "dkZy3AfS5hbh"
      },
      "execution_count": 6,
      "outputs": []
    },
    {
      "cell_type": "code",
      "source": [
        "print(f'The result of coin toss simulation for {number_of_throws} throws are: {tosses}')"
      ],
      "metadata": {
        "colab": {
          "base_uri": "https://localhost:8080/"
        },
        "collapsed": true,
        "id": "3DDc4Y_P7iNT",
        "outputId": "d1ea7251-57e2-4284-b792-f04a2f875ff5"
      },
      "execution_count": 7,
      "outputs": [
        {
          "output_type": "stream",
          "name": "stdout",
          "text": [
            "The result of coin toss simulation for 1000 throws are: ['Tails' 'Heads' 'Heads' 'Heads' 'Tails' 'Heads' 'Heads' 'Heads' 'Tails'\n",
            " 'Heads' 'Heads' 'Heads' 'Tails' 'Tails' 'Heads' 'Tails' 'Tails' 'Heads'\n",
            " 'Tails' 'Tails' 'Heads' 'Tails' 'Tails' 'Heads' 'Tails' 'Heads' 'Heads'\n",
            " 'Tails' 'Heads' 'Tails' 'Heads' 'Tails' 'Heads' 'Heads' 'Heads' 'Tails'\n",
            " 'Heads' 'Tails' 'Tails' 'Heads' 'Tails' 'Heads' 'Heads' 'Tails' 'Heads'\n",
            " 'Heads' 'Heads' 'Heads' 'Heads' 'Heads' 'Heads' 'Heads' 'Heads' 'Tails'\n",
            " 'Heads' 'Heads' 'Heads' 'Heads' 'Tails' 'Tails' 'Heads' 'Tails' 'Heads'\n",
            " 'Heads' 'Tails' 'Heads' 'Heads' 'Heads' 'Tails' 'Heads' 'Heads' 'Tails'\n",
            " 'Heads' 'Heads' 'Heads' 'Tails' 'Tails' 'Tails' 'Tails' 'Heads' 'Heads'\n",
            " 'Heads' 'Heads' 'Tails' 'Tails' 'Heads' 'Heads' 'Tails' 'Heads' 'Heads'\n",
            " 'Heads' 'Heads' 'Heads' 'Heads' 'Heads' 'Tails' 'Heads' 'Tails' 'Tails'\n",
            " 'Heads' 'Heads' 'Tails' 'Heads' 'Heads' 'Tails' 'Tails' 'Tails' 'Heads'\n",
            " 'Tails' 'Heads' 'Tails' 'Tails' 'Tails' 'Tails' 'Tails' 'Heads' 'Heads'\n",
            " 'Heads' 'Tails' 'Tails' 'Heads' 'Heads' 'Heads' 'Tails' 'Tails' 'Tails'\n",
            " 'Heads' 'Tails' 'Heads' 'Heads' 'Heads' 'Tails' 'Heads' 'Tails' 'Heads'\n",
            " 'Tails' 'Heads' 'Tails' 'Tails' 'Heads' 'Heads' 'Heads' 'Heads' 'Tails'\n",
            " 'Tails' 'Tails' 'Tails' 'Tails' 'Tails' 'Heads' 'Heads' 'Tails' 'Heads'\n",
            " 'Heads' 'Tails' 'Heads' 'Heads' 'Tails' 'Tails' 'Heads' 'Heads' 'Tails'\n",
            " 'Heads' 'Tails' 'Heads' 'Tails' 'Heads' 'Tails' 'Heads' 'Tails' 'Tails'\n",
            " 'Heads' 'Tails' 'Tails' 'Heads' 'Tails' 'Heads' 'Tails' 'Tails' 'Heads'\n",
            " 'Heads' 'Tails' 'Tails' 'Tails' 'Tails' 'Tails' 'Heads' 'Tails' 'Tails'\n",
            " 'Tails' 'Heads' 'Heads' 'Heads' 'Heads' 'Tails' 'Tails' 'Tails' 'Tails'\n",
            " 'Heads' 'Heads' 'Heads' 'Heads' 'Tails' 'Tails' 'Tails' 'Tails' 'Heads'\n",
            " 'Tails' 'Heads' 'Heads' 'Heads' 'Heads' 'Heads' 'Tails' 'Tails' 'Heads'\n",
            " 'Tails' 'Heads' 'Heads' 'Heads' 'Heads' 'Tails' 'Tails' 'Tails' 'Heads'\n",
            " 'Tails' 'Tails' 'Heads' 'Heads' 'Tails' 'Tails' 'Heads' 'Heads' 'Heads'\n",
            " 'Heads' 'Tails' 'Heads' 'Tails' 'Tails' 'Heads' 'Tails' 'Heads' 'Heads'\n",
            " 'Tails' 'Heads' 'Tails' 'Heads' 'Heads' 'Heads' 'Heads' 'Heads' 'Heads'\n",
            " 'Tails' 'Heads' 'Tails' 'Tails' 'Heads' 'Heads' 'Heads' 'Heads' 'Tails'\n",
            " 'Heads' 'Tails' 'Heads' 'Heads' 'Heads' 'Tails' 'Tails' 'Tails' 'Heads'\n",
            " 'Heads' 'Heads' 'Heads' 'Heads' 'Tails' 'Heads' 'Tails' 'Heads' 'Tails'\n",
            " 'Heads' 'Heads' 'Heads' 'Tails' 'Heads' 'Tails' 'Tails' 'Heads' 'Heads'\n",
            " 'Heads' 'Heads' 'Tails' 'Tails' 'Heads' 'Heads' 'Tails' 'Heads' 'Heads'\n",
            " 'Tails' 'Tails' 'Heads' 'Tails' 'Tails' 'Heads' 'Heads' 'Heads' 'Tails'\n",
            " 'Heads' 'Tails' 'Heads' 'Heads' 'Heads' 'Tails' 'Heads' 'Tails' 'Heads'\n",
            " 'Heads' 'Tails' 'Heads' 'Tails' 'Heads' 'Tails' 'Tails' 'Heads' 'Tails'\n",
            " 'Heads' 'Tails' 'Heads' 'Tails' 'Heads' 'Heads' 'Tails' 'Tails' 'Heads'\n",
            " 'Heads' 'Heads' 'Heads' 'Tails' 'Tails' 'Tails' 'Tails' 'Tails' 'Heads'\n",
            " 'Tails' 'Heads' 'Tails' 'Tails' 'Tails' 'Heads' 'Heads' 'Heads' 'Tails'\n",
            " 'Tails' 'Heads' 'Heads' 'Heads' 'Heads' 'Heads' 'Tails' 'Heads' 'Heads'\n",
            " 'Heads' 'Tails' 'Tails' 'Heads' 'Heads' 'Tails' 'Heads' 'Heads' 'Tails'\n",
            " 'Tails' 'Heads' 'Tails' 'Tails' 'Heads' 'Heads' 'Tails' 'Heads' 'Tails'\n",
            " 'Tails' 'Heads' 'Tails' 'Tails' 'Heads' 'Heads' 'Tails' 'Heads' 'Heads'\n",
            " 'Tails' 'Tails' 'Tails' 'Heads' 'Heads' 'Tails' 'Tails' 'Tails' 'Heads'\n",
            " 'Heads' 'Tails' 'Tails' 'Tails' 'Tails' 'Tails' 'Heads' 'Heads' 'Heads'\n",
            " 'Tails' 'Heads' 'Tails' 'Heads' 'Tails' 'Heads' 'Heads' 'Heads' 'Heads'\n",
            " 'Heads' 'Heads' 'Heads' 'Tails' 'Tails' 'Tails' 'Heads' 'Tails' 'Tails'\n",
            " 'Tails' 'Heads' 'Tails' 'Tails' 'Tails' 'Heads' 'Heads' 'Heads' 'Tails'\n",
            " 'Tails' 'Tails' 'Heads' 'Tails' 'Heads' 'Tails' 'Tails' 'Tails' 'Heads'\n",
            " 'Tails' 'Tails' 'Heads' 'Tails' 'Heads' 'Tails' 'Tails' 'Heads' 'Tails'\n",
            " 'Heads' 'Tails' 'Tails' 'Tails' 'Tails' 'Heads' 'Heads' 'Tails' 'Heads'\n",
            " 'Tails' 'Tails' 'Tails' 'Heads' 'Heads' 'Heads' 'Heads' 'Tails' 'Heads'\n",
            " 'Heads' 'Heads' 'Heads' 'Heads' 'Heads' 'Tails' 'Tails' 'Tails' 'Tails'\n",
            " 'Heads' 'Tails' 'Heads' 'Tails' 'Tails' 'Tails' 'Tails' 'Tails' 'Tails'\n",
            " 'Tails' 'Heads' 'Heads' 'Heads' 'Tails' 'Heads' 'Heads' 'Tails' 'Tails'\n",
            " 'Tails' 'Heads' 'Heads' 'Tails' 'Heads' 'Heads' 'Heads' 'Heads' 'Tails'\n",
            " 'Tails' 'Tails' 'Heads' 'Tails' 'Tails' 'Heads' 'Tails' 'Heads' 'Heads'\n",
            " 'Heads' 'Heads' 'Tails' 'Tails' 'Heads' 'Tails' 'Tails' 'Heads' 'Heads'\n",
            " 'Tails' 'Tails' 'Heads' 'Heads' 'Heads' 'Tails' 'Heads' 'Tails' 'Tails'\n",
            " 'Tails' 'Tails' 'Tails' 'Heads' 'Heads' 'Tails' 'Heads' 'Heads' 'Tails'\n",
            " 'Tails' 'Heads' 'Tails' 'Heads' 'Tails' 'Heads' 'Heads' 'Tails' 'Tails'\n",
            " 'Heads' 'Tails' 'Heads' 'Heads' 'Tails' 'Tails' 'Heads' 'Heads' 'Heads'\n",
            " 'Tails' 'Heads' 'Tails' 'Heads' 'Tails' 'Heads' 'Heads' 'Tails' 'Tails'\n",
            " 'Heads' 'Heads' 'Heads' 'Heads' 'Heads' 'Heads' 'Heads' 'Tails' 'Heads'\n",
            " 'Tails' 'Heads' 'Tails' 'Heads' 'Tails' 'Tails' 'Tails' 'Tails' 'Tails'\n",
            " 'Heads' 'Heads' 'Tails' 'Heads' 'Tails' 'Tails' 'Tails' 'Heads' 'Tails'\n",
            " 'Heads' 'Heads' 'Tails' 'Heads' 'Tails' 'Heads' 'Heads' 'Tails' 'Heads'\n",
            " 'Tails' 'Tails' 'Heads' 'Tails' 'Tails' 'Heads' 'Heads' 'Heads' 'Tails'\n",
            " 'Heads' 'Tails' 'Heads' 'Heads' 'Tails' 'Tails' 'Heads' 'Heads' 'Tails'\n",
            " 'Heads' 'Tails' 'Tails' 'Tails' 'Tails' 'Heads' 'Heads' 'Heads' 'Tails'\n",
            " 'Tails' 'Heads' 'Tails' 'Tails' 'Tails' 'Heads' 'Heads' 'Heads' 'Tails'\n",
            " 'Tails' 'Tails' 'Tails' 'Heads' 'Tails' 'Tails' 'Heads' 'Tails' 'Heads'\n",
            " 'Tails' 'Tails' 'Tails' 'Heads' 'Heads' 'Heads' 'Tails' 'Tails' 'Heads'\n",
            " 'Tails' 'Heads' 'Heads' 'Tails' 'Heads' 'Tails' 'Tails' 'Heads' 'Heads'\n",
            " 'Heads' 'Tails' 'Heads' 'Tails' 'Heads' 'Tails' 'Tails' 'Heads' 'Heads'\n",
            " 'Heads' 'Heads' 'Tails' 'Heads' 'Heads' 'Tails' 'Tails' 'Tails' 'Tails'\n",
            " 'Tails' 'Heads' 'Tails' 'Tails' 'Heads' 'Heads' 'Tails' 'Heads' 'Tails'\n",
            " 'Heads' 'Heads' 'Heads' 'Tails' 'Tails' 'Heads' 'Tails' 'Heads' 'Heads'\n",
            " 'Tails' 'Tails' 'Tails' 'Tails' 'Heads' 'Heads' 'Heads' 'Heads' 'Heads'\n",
            " 'Heads' 'Heads' 'Tails' 'Heads' 'Heads' 'Tails' 'Heads' 'Heads' 'Tails'\n",
            " 'Tails' 'Tails' 'Heads' 'Heads' 'Tails' 'Tails' 'Tails' 'Heads' 'Tails'\n",
            " 'Tails' 'Tails' 'Heads' 'Tails' 'Heads' 'Tails' 'Heads' 'Heads' 'Tails'\n",
            " 'Tails' 'Tails' 'Tails' 'Tails' 'Heads' 'Tails' 'Tails' 'Tails' 'Heads'\n",
            " 'Heads' 'Tails' 'Tails' 'Tails' 'Tails' 'Tails' 'Tails' 'Heads' 'Heads'\n",
            " 'Heads' 'Heads' 'Heads' 'Tails' 'Heads' 'Tails' 'Heads' 'Tails' 'Tails'\n",
            " 'Tails' 'Tails' 'Heads' 'Tails' 'Tails' 'Tails' 'Heads' 'Heads' 'Heads'\n",
            " 'Heads' 'Heads' 'Heads' 'Tails' 'Heads' 'Heads' 'Tails' 'Tails' 'Heads'\n",
            " 'Tails' 'Tails' 'Heads' 'Heads' 'Tails' 'Tails' 'Heads' 'Heads' 'Tails'\n",
            " 'Tails' 'Tails' 'Tails' 'Heads' 'Heads' 'Heads' 'Tails' 'Tails' 'Tails'\n",
            " 'Tails' 'Tails' 'Heads' 'Tails' 'Heads' 'Heads' 'Heads' 'Heads' 'Tails'\n",
            " 'Tails' 'Heads' 'Tails' 'Heads' 'Tails' 'Heads' 'Heads' 'Heads' 'Heads'\n",
            " 'Heads' 'Tails' 'Heads' 'Tails' 'Tails' 'Heads' 'Tails' 'Heads' 'Tails'\n",
            " 'Heads' 'Heads' 'Tails' 'Tails' 'Heads' 'Heads' 'Heads' 'Tails' 'Tails'\n",
            " 'Heads' 'Tails' 'Tails' 'Heads' 'Tails' 'Heads' 'Heads' 'Heads' 'Tails'\n",
            " 'Heads' 'Heads' 'Tails' 'Heads' 'Tails' 'Tails' 'Heads' 'Tails' 'Heads'\n",
            " 'Heads' 'Heads' 'Tails' 'Heads' 'Heads' 'Heads' 'Heads' 'Heads' 'Heads'\n",
            " 'Heads' 'Tails' 'Tails' 'Heads' 'Heads' 'Heads' 'Tails' 'Heads' 'Tails'\n",
            " 'Heads' 'Tails' 'Tails' 'Tails' 'Tails' 'Heads' 'Heads' 'Heads' 'Tails'\n",
            " 'Heads' 'Heads' 'Heads' 'Heads' 'Tails' 'Tails' 'Tails' 'Heads' 'Tails'\n",
            " 'Tails' 'Heads' 'Heads' 'Heads' 'Tails' 'Tails' 'Heads' 'Heads' 'Heads'\n",
            " 'Heads' 'Heads' 'Heads' 'Heads' 'Tails' 'Tails' 'Heads' 'Tails' 'Heads'\n",
            " 'Tails' 'Heads' 'Tails' 'Tails' 'Heads' 'Tails' 'Tails' 'Heads' 'Tails'\n",
            " 'Tails' 'Tails' 'Tails' 'Heads' 'Tails' 'Tails' 'Heads' 'Heads' 'Heads'\n",
            " 'Tails' 'Tails' 'Heads' 'Tails' 'Tails' 'Heads' 'Heads' 'Heads' 'Heads'\n",
            " 'Tails' 'Tails' 'Heads' 'Heads' 'Tails' 'Heads' 'Tails' 'Heads' 'Heads'\n",
            " 'Heads' 'Tails' 'Tails' 'Heads' 'Heads' 'Heads' 'Tails' 'Tails' 'Heads'\n",
            " 'Tails' 'Tails' 'Heads' 'Tails' 'Tails' 'Heads' 'Tails' 'Heads' 'Heads'\n",
            " 'Heads' 'Heads' 'Heads' 'Tails' 'Heads' 'Heads' 'Tails' 'Tails' 'Tails'\n",
            " 'Tails' 'Heads' 'Tails' 'Heads' 'Heads' 'Tails' 'Heads' 'Heads' 'Heads'\n",
            " 'Tails' 'Heads' 'Heads' 'Tails' 'Tails' 'Heads' 'Tails' 'Heads' 'Heads'\n",
            " 'Tails' 'Tails' 'Heads' 'Tails' 'Heads' 'Tails' 'Tails' 'Heads' 'Heads'\n",
            " 'Tails']\n"
          ]
        }
      ]
    },
    {
      "cell_type": "code",
      "source": [
        "# https://numpy.org/doc/stable/reference/generated/numpy.sum.html\n",
        "# NUmber of Heads\n",
        "nr_heads = np.sum(tosses == \"Heads\")\n"
      ],
      "metadata": {
        "id": "SveAMofY79SY"
      },
      "execution_count": 14,
      "outputs": []
    },
    {
      "cell_type": "code",
      "source": [
        "# NUmber of Tails\n",
        "nr_tails = np.sum(tosses == \"Tails\")"
      ],
      "metadata": {
        "id": "jp25jdmM8j3z"
      },
      "execution_count": 15,
      "outputs": []
    },
    {
      "cell_type": "code",
      "source": [
        "# Probabilities\n",
        "prob_heads = nr_heads / number_of_throws\n",
        "\n",
        "prob_tails = nr_tails / number_of_throws"
      ],
      "metadata": {
        "id": "OrS2HI7K8omE"
      },
      "execution_count": 16,
      "outputs": []
    },
    {
      "cell_type": "code",
      "source": [
        "print(f'Probability of Heads: {prob_heads}')\n",
        "print(f'Probability of Tails: {prob_tails}')"
      ],
      "metadata": {
        "colab": {
          "base_uri": "https://localhost:8080/"
        },
        "id": "U-nheq129TDD",
        "outputId": "59c84301-f47d-4597-bf42-c138dee4698b"
      },
      "execution_count": 17,
      "outputs": [
        {
          "output_type": "stream",
          "name": "stdout",
          "text": [
            "Probability of Heads: 0.524\n",
            "Probability of Tails: 0.476\n"
          ]
        }
      ]
    },
    {
      "cell_type": "markdown",
      "source": [
        "### Numpy"
      ],
      "metadata": {
        "id": "HU7breuO9nZb"
      }
    },
    {
      "cell_type": "code",
      "source": [
        "# Numpy is a list of numbers\n",
        "my_list = [1, 2, 3] #Python list\n",
        "my_list"
      ],
      "metadata": {
        "colab": {
          "base_uri": "https://localhost:8080/"
        },
        "id": "EgOEDNMC9pcx",
        "outputId": "88af4627-785b-463a-bae2-9fc768c89eb8"
      },
      "execution_count": 19,
      "outputs": [
        {
          "output_type": "execute_result",
          "data": {
            "text/plain": [
              "[1, 2, 3]"
            ]
          },
          "metadata": {},
          "execution_count": 19
        }
      ]
    },
    {
      "cell_type": "code",
      "source": [
        "import sys"
      ],
      "metadata": {
        "id": "T4azinAj-KLc"
      },
      "execution_count": 20,
      "outputs": []
    },
    {
      "cell_type": "code",
      "source": [
        "size_of_py_list = sys.getsizeof(my_list)\n",
        "print(\"Size of the Pythin list is:\", size_of_py_list) # bytes"
      ],
      "metadata": {
        "colab": {
          "base_uri": "https://localhost:8080/"
        },
        "id": "5-2gtBL1-NBf",
        "outputId": "bad194ae-803b-4e01-8d19-86e08c5cc0dd"
      },
      "execution_count": 21,
      "outputs": [
        {
          "output_type": "stream",
          "name": "stdout",
          "text": [
            "Size of the Pythin list is: 88\n"
          ]
        }
      ]
    },
    {
      "cell_type": "code",
      "source": [
        "my_array = np.array(my_list)\n",
        "my_array"
      ],
      "metadata": {
        "colab": {
          "base_uri": "https://localhost:8080/"
        },
        "id": "msbbN95G-zf2",
        "outputId": "626dd1e8-061b-4d70-fa54-3e486717c975"
      },
      "execution_count": 22,
      "outputs": [
        {
          "output_type": "execute_result",
          "data": {
            "text/plain": [
              "array([1, 2, 3])"
            ]
          },
          "metadata": {},
          "execution_count": 22
        }
      ]
    },
    {
      "cell_type": "code",
      "source": [
        "size_of_array = my_array.nbytes\n",
        "\n",
        "print(\"Size of the Numpy array is:\", size_of_array) # bytes"
      ],
      "metadata": {
        "colab": {
          "base_uri": "https://localhost:8080/"
        },
        "id": "tmkH2xlI_NcD",
        "outputId": "a89828c8-c92b-4a3c-c03f-81e1643440c0"
      },
      "execution_count": 23,
      "outputs": [
        {
          "output_type": "stream",
          "name": "stdout",
          "text": [
            "Size of the Numpy array is: 24\n"
          ]
        }
      ]
    },
    {
      "cell_type": "code",
      "source": [
        "test_list = [1,2,3, 'Autumn', 0.3, True]\n",
        "test_list"
      ],
      "metadata": {
        "colab": {
          "base_uri": "https://localhost:8080/"
        },
        "id": "3JtxO_s0Awq0",
        "outputId": "de5f8831-08fa-4449-fc37-1af5077491da"
      },
      "execution_count": 24,
      "outputs": [
        {
          "output_type": "execute_result",
          "data": {
            "text/plain": [
              "[1, 2, 3, 'Autumn', 0.3, True]"
            ]
          },
          "metadata": {},
          "execution_count": 24
        }
      ]
    },
    {
      "cell_type": "code",
      "source": [
        "test_list_array = np.array(test_list)\n",
        "test_list_array"
      ],
      "metadata": {
        "colab": {
          "base_uri": "https://localhost:8080/"
        },
        "id": "UVqHulSNBhEo",
        "outputId": "04059b78-483b-41f0-88e4-013f2d27a52e"
      },
      "execution_count": 25,
      "outputs": [
        {
          "output_type": "execute_result",
          "data": {
            "text/plain": [
              "array(['1', '2', '3', 'Autumn', '0.3', 'True'], dtype='<U32')"
            ]
          },
          "metadata": {},
          "execution_count": 25
        }
      ]
    },
    {
      "cell_type": "markdown",
      "source": [
        "### Built-in methods in Numpy"
      ],
      "metadata": {
        "id": "TO7CT9ZuDM61"
      }
    },
    {
      "cell_type": "code",
      "source": [
        "# arange\n",
        "\n",
        "np.arange(10)\n",
        "\n",
        "np.arange(5, 10)\n",
        "\n",
        "np.arange(10, 20, 3.5) # start, stop, step; # selgitus u. kell 10:53"
      ],
      "metadata": {
        "colab": {
          "base_uri": "https://localhost:8080/"
        },
        "id": "ZsWI4YW_BmGQ",
        "outputId": "3d637dc4-d578-432e-a632-f7089dfabe6a"
      },
      "execution_count": 31,
      "outputs": [
        {
          "output_type": "execute_result",
          "data": {
            "text/plain": [
              "array([10. , 13.5, 17. ])"
            ]
          },
          "metadata": {},
          "execution_count": 31
        }
      ]
    },
    {
      "cell_type": "code",
      "source": [
        "# zeros\n",
        "\n",
        "np.zeros(3)\n",
        "\n",
        "np.zeros((5,5)) # 5x5 matrix"
      ],
      "metadata": {
        "colab": {
          "base_uri": "https://localhost:8080/"
        },
        "id": "55t5s2QFE7nn",
        "outputId": "0b1c825c-d5aa-425e-9843-86dba52070be"
      },
      "execution_count": 33,
      "outputs": [
        {
          "output_type": "execute_result",
          "data": {
            "text/plain": [
              "array([[0., 0., 0., 0., 0.],\n",
              "       [0., 0., 0., 0., 0.],\n",
              "       [0., 0., 0., 0., 0.],\n",
              "       [0., 0., 0., 0., 0.],\n",
              "       [0., 0., 0., 0., 0.]])"
            ]
          },
          "metadata": {},
          "execution_count": 33
        }
      ]
    },
    {
      "cell_type": "code",
      "source": [
        "# ones\n",
        "\n",
        "np.ones(3)\n",
        "\n",
        "np.ones((10,2), dtype=int) # modified the format from float to int"
      ],
      "metadata": {
        "colab": {
          "base_uri": "https://localhost:8080/"
        },
        "id": "RnofQBJNFlbq",
        "outputId": "f9db02e6-4ba6-4b85-e79a-df23ec42f0b9"
      },
      "execution_count": 37,
      "outputs": [
        {
          "output_type": "execute_result",
          "data": {
            "text/plain": [
              "array([[1, 1],\n",
              "       [1, 1],\n",
              "       [1, 1],\n",
              "       [1, 1],\n",
              "       [1, 1],\n",
              "       [1, 1],\n",
              "       [1, 1],\n",
              "       [1, 1],\n",
              "       [1, 1],\n",
              "       [1, 1]])"
            ]
          },
          "metadata": {},
          "execution_count": 37
        }
      ]
    },
    {
      "cell_type": "code",
      "source": [
        "#linspace\n",
        "np.linspace(100, 200, 33) # start, stop, number of elements; number of items in the array is 33\n"
      ],
      "metadata": {
        "colab": {
          "base_uri": "https://localhost:8080/"
        },
        "id": "-VooGvlkHnAx",
        "outputId": "1fb57757-f9f6-42d9-d34f-5ee37c628b41"
      },
      "execution_count": 38,
      "outputs": [
        {
          "output_type": "execute_result",
          "data": {
            "text/plain": [
              "array([100.   , 103.125, 106.25 , 109.375, 112.5  , 115.625, 118.75 ,\n",
              "       121.875, 125.   , 128.125, 131.25 , 134.375, 137.5  , 140.625,\n",
              "       143.75 , 146.875, 150.   , 153.125, 156.25 , 159.375, 162.5  ,\n",
              "       165.625, 168.75 , 171.875, 175.   , 178.125, 181.25 , 184.375,\n",
              "       187.5  , 190.625, 193.75 , 196.875, 200.   ])"
            ]
          },
          "metadata": {},
          "execution_count": 38
        }
      ]
    },
    {
      "cell_type": "code",
      "source": [
        "#eye\n",
        "np.eye(4) # identity matrix"
      ],
      "metadata": {
        "colab": {
          "base_uri": "https://localhost:8080/"
        },
        "id": "BsWc09o4Ic01",
        "outputId": "922b0a4d-c00e-45f2-87ef-ca0f99f585bd"
      },
      "execution_count": 39,
      "outputs": [
        {
          "output_type": "execute_result",
          "data": {
            "text/plain": [
              "array([[1., 0., 0., 0.],\n",
              "       [0., 1., 0., 0.],\n",
              "       [0., 0., 1., 0.],\n",
              "       [0., 0., 0., 1.]])"
            ]
          },
          "metadata": {},
          "execution_count": 39
        }
      ]
    },
    {
      "cell_type": "code",
      "source": [
        "np.random.rand(2,4) # random numbers from 0 to 1"
      ],
      "metadata": {
        "colab": {
          "base_uri": "https://localhost:8080/"
        },
        "id": "pbEKr_LuI3iU",
        "outputId": "79ae214d-d13d-4394-96cb-1651a9c6998c"
      },
      "execution_count": 41,
      "outputs": [
        {
          "output_type": "execute_result",
          "data": {
            "text/plain": [
              "array([[0.82259256, 0.55019744, 0.9495231 , 0.95474537],\n",
              "       [0.14055704, 0.62176594, 0.38855384, 0.88664248]])"
            ]
          },
          "metadata": {},
          "execution_count": 41
        }
      ]
    },
    {
      "cell_type": "code",
      "source": [
        "coordinates = np.random.rand(2)\n",
        "\n",
        "x = coordinates[0] # first value of the array\n",
        "y = coordinates[1] # second value of the array\n",
        "\n",
        "import matplotlib.pyplot as plt\n",
        "\n",
        "plt.scatter(x, y, s=100, color='blue')\n",
        "plt.title('Randomly selected coordinates')\n",
        "plt.xlabel('X')\n",
        "plt.ylabel('Y')\n",
        "plt.grid(True)"
      ],
      "metadata": {
        "colab": {
          "base_uri": "https://localhost:8080/",
          "height": 472
        },
        "id": "N_GK3kMyJMqS",
        "outputId": "5049da9f-2fa2-4f4c-98af-3fec2d9b8890"
      },
      "execution_count": 45,
      "outputs": [
        {
          "output_type": "display_data",
          "data": {
            "text/plain": [
              "<Figure size 640x480 with 1 Axes>"
            ],
            "image/png": "[encoded data removed]"
          },
          "metadata": {}
        }
      ]
    },
    {
      "cell_type": "code",
      "source": [
        "### UNIFORM DISTRIBUTION\n",
        "coordinates2 = np.random.rand(100000, 2)\n",
        "coordinates2\n",
        "\n",
        "x = coordinates2[:, 0] # all the rows from the first column\n",
        "y = coordinates2[:, 1] # all the rows from the second column\n",
        "\n",
        "plt.scatter(x, y, color='blue')\n",
        "plt.title('100000 randomly selected coordinates')\n",
        "plt.xlabel('X')\n",
        "plt.ylabel('Y')\n",
        "plt.grid(True)"
      ],
      "metadata": {
        "colab": {
          "base_uri": "https://localhost:8080/",
          "height": 472
        },
        "id": "XWw2en_eKUPE",
        "outputId": "9ed79e9f-5b0c-46f2-d684-601a4454833e"
      },
      "execution_count": 47,
      "outputs": [
        {
          "output_type": "display_data",
          "data": {
            "text/plain": [
              "<Figure size 640x480 with 1 Axes>"
            ],
            "image/png": "[encoded data removed]"
          },
          "metadata": {}
        }
      ]
    },
    {
      "cell_type": "code",
      "source": [
        "# NORMAL DISTRIBUTION\n",
        "coordinates3 = np.random.randn(100000, 2)\n",
        "coordinates3\n",
        "\n",
        "x = coordinates3[:, 0] # all the rows from the first column\n",
        "y = coordinates3[:, 1] # all the rows from the second column\n",
        "\n",
        "plt.scatter(x, y, color='blue')\n",
        "plt.title('100000 randomly selected coordinates - NORMAL distribution')\n",
        "plt.xlabel('X')\n",
        "plt.ylabel('Y')\n",
        "plt.grid(True)"
      ],
      "metadata": {
        "colab": {
          "base_uri": "https://localhost:8080/",
          "height": 472
        },
        "id": "czctJIYlLzce",
        "outputId": "067b5895-edab-4b2f-cb12-5c409498eef4"
      },
      "execution_count": 49,
      "outputs": [
        {
          "output_type": "display_data",
          "data": {
            "text/plain": [
              "<Figure size 640x480 with 1 Axes>"
            ],
            "image/png": "[encoded data removed]"
          },
          "metadata": {}
        }
      ]
    },
    {
      "cell_type": "code",
      "source": [
        "np.random.randint(1, 100) # start -1 (inclusive), end -100 (exclusive)"
      ],
      "metadata": {
        "colab": {
          "base_uri": "https://localhost:8080/"
        },
        "id": "S3RuH30lNY3R",
        "outputId": "c0799e44-bcad-4f9b-e4e5-a7e54d89499b"
      },
      "execution_count": 54,
      "outputs": [
        {
          "output_type": "execute_result",
          "data": {
            "text/plain": [
              "8"
            ]
          },
          "metadata": {},
          "execution_count": 54
        }
      ]
    },
    {
      "cell_type": "code",
      "source": [
        "my_values = np.random.randint(1, 100, 10) # start -1 (inclusive), end -100 (exclusive), number of elements -10\n",
        "my_values"
      ],
      "metadata": {
        "colab": {
          "base_uri": "https://localhost:8080/"
        },
        "id": "_1HtvJspOB0C",
        "outputId": "db575533-4a96-4a58-c14a-226ff70fc188"
      },
      "execution_count": 56,
      "outputs": [
        {
          "output_type": "execute_result",
          "data": {
            "text/plain": [
              "array([58, 37, 36, 28, 61,  5, 30, 19, 64, 36])"
            ]
          },
          "metadata": {},
          "execution_count": 56
        }
      ]
    },
    {
      "cell_type": "code",
      "source": [
        "#MATH\n",
        "\n",
        "my_values.min()\n",
        "my_values.max()\n",
        "my_values.std()"
      ],
      "metadata": {
        "colab": {
          "base_uri": "https://localhost:8080/"
        },
        "id": "ur9R-VOsO1gy",
        "outputId": "97c9b7b8-5ce6-4c09-9a65-61d7d8da0210"
      },
      "execution_count": 57,
      "outputs": [
        {
          "output_type": "execute_result",
          "data": {
            "text/plain": [
              "17.956614380222124"
            ]
          },
          "metadata": {},
          "execution_count": 57
        }
      ]
    },
    {
      "cell_type": "code",
      "source": [
        "# Finding index of different locations\n",
        "my_values.argmin()\n",
        "my_values.argmax()"
      ],
      "metadata": {
        "colab": {
          "base_uri": "https://localhost:8080/"
        },
        "id": "l5-4F5jXPEqE",
        "outputId": "9c75753c-de60-4025-c453-15a65f02f063"
      },
      "execution_count": 60,
      "outputs": [
        {
          "output_type": "execute_result",
          "data": {
            "text/plain": [
              "8"
            ]
          },
          "metadata": {},
          "execution_count": 60
        }
      ]
    }
  ]
}