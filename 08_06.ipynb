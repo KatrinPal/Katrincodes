{
  "nbformat": 4,
  "nbformat_minor": 0,
  "metadata": {
    "colab": {
      "provenance": [],
      "authorship_tag": "ABX9TyMSlqFBPaYGwh02/svIr0wP",
      "include_colab_link": true
    },
    "kernelspec": {
      "name": "python3",
      "display_name": "Python 3"
    },
    "language_info": {
      "name": "python"
    }
  },
  "cells": [
    {
      "cell_type": "markdown",
      "metadata": {
        "id": "view-in-github",
        "colab_type": "text"
      },
      "source": [
        "<a href=\"https://colab.research.google.com/github/KatrinPal/Katrincodes/blob/main/08_06.ipynb\" target=\"_parent\"><img src=\"https://colab.research.google.com/assets/colab-badge.svg\" alt=\"Open In Colab\"/></a>"
      ]
    },
    {
      "cell_type": "code",
      "execution_count": null,
      "metadata": {
        "collapsed": true,
        "id": "NXsMZ3BqlEiT"
      },
      "outputs": [],
      "source": [
        "import datetime\n",
        "import json\n",
        "\n",
        "class Client:\n",
        "    number_of_clients = 0\n",
        "\n",
        "    def __init__(self, id, name):\n",
        "        self.id = id\n",
        "        self.name = name\n",
        "        self.accounts = []\n",
        "        Client.number_of_clients += 1\n",
        "\n",
        "    def add_account(self, account):\n",
        "        self.accounts.append(account)\n",
        "\n",
        "    def to_dict(self):\n",
        "        return {\n",
        "            'id': self.id,\n",
        "            'name': self.name,\n",
        "            'accounts': [account.to_dict() for account in self.accounts]\n",
        "        }\n",
        "\n",
        "class Account:\n",
        "    def __init__(self, number, currency, balance=0.0):\n",
        "        self.number = number\n",
        "        self.currency = currency\n",
        "        self.balance = balance\n",
        "        self.transactions = []\n",
        "\n",
        "    def make_deposit(self, amount, note):\n",
        "        self.transactions.append(Transaction(self.currency, amount, note))\n",
        "        self.balance += amount\n",
        "\n",
        "    def make_withdrawal(self, amount, note):\n",
        "        self.transactions.append(Transaction(self.currency, -amount, note))\n",
        "        self.balance -= amount\n",
        "\n",
        "    def to_dict(self):\n",
        "        return {\n",
        "            'number': self.number,\n",
        "            'currency': self.currency,\n",
        "            'balance': self.balance,\n",
        "            'transactions': [transaction.to_dict() for transaction in self.transactions]\n",
        "        }\n",
        "\n",
        "class Transaction:\n",
        "    def __init__(self, currency, amount, note):\n",
        "        self.currency = currency\n",
        "        self.amount = amount\n",
        "        self.note = note\n",
        "        self.time_stamp = datetime.datetime.now()\n",
        "\n",
        "    def to_dict(self):\n",
        "        return {\n",
        "            'currency': self.currency,\n",
        "            'amount': self.amount,\n",
        "            'note': self.note,\n",
        "            'time_stamp': self.time_stamp.isoformat()\n",
        "        }\n",
        "\n",
        "# now, let us work using those classes\n",
        "# adding clients to a list\n",
        "clients = []\n",
        "clients.append(Client('123456', 'Anna'))\n",
        "clients.append(Client('987654', 'Oskar'))\n",
        "clients.append(Client('456123', 'Jenifer'))\n",
        "\n",
        "# adding accounts to clients\n",
        "clients[0].add_account(Account('EE654987564321', 'EUR', 1000.0))\n",
        "clients[0].add_account(Account('JP582147859635', 'JPY', 25000.30))\n",
        "clients[0].add_account(Account('US654987643214', 'USD'))\n",
        "clients[1].add_account(Account('PL849512635445', 'PLN', 47800.00))\n",
        "clients[2].add_account(Account('SE741254956587', 'SEK', 200.18))\n",
        "\n",
        "# let's make some transactions\n",
        "clients[0].accounts[0].make_deposit(1200, 'Salary')\n",
        "clients[0].accounts[0].make_withdrawal(50, 'Grocery')\n",
        "clients[0].accounts[0].make_withdrawal(140, 'Clothes')\n",
        "clients[0].accounts[0].make_withdrawal(20, 'Dinner')\n",
        "\n",
        "# Collect all client data into a dictionary\n",
        "clients_data = [client.to_dict() for client in clients]\n",
        "\n",
        "# Save the data to a JSON file\n",
        "with open(\"clients_data.json\", \"w\") as outfile:\n",
        "    json.dump(clients_data, outfile, indent=4)\n",
        "\n",
        "\n"
      ]
    },
    {
      "cell_type": "code",
      "source": [
        "from google.colab import drive\n",
        "drive.mount('/content/drive')"
      ],
      "metadata": {
        "id": "5b4AuTNYAJKR"
      },
      "execution_count": null,
      "outputs": []
    },
    {
      "cell_type": "code",
      "source": [
        "import json\n",
        "\n",
        "# Define student_details dictionary\n",
        "student_details ={\n",
        "    \"name\" : \"sathiyajith\",\n",
        "    \"rollno\" : 56,\n",
        "    \"cgpa\" : 8.6,\n",
        "    \"phonenumber\" : \"9976770500\"\n",
        "}\n",
        "\n",
        "# Convert and write JSON object to file\n",
        "with open(\"sample.json\", \"w\") as outfile:\n",
        "    json.dump(student_details, outfile)"
      ],
      "metadata": {
        "id": "-3X7Eg_ZBsx4"
      },
      "execution_count": null,
      "outputs": []
    },
    {
      "cell_type": "code",
      "source": [
        "# reading JSON into a dictionary\n",
        "import json\n",
        "\n",
        "with open('clients_data.json') as json_file:\n",
        "    data = json.load(json_file)\n",
        "\n",
        "for client in data:\n",
        "  print(f'{client[\"name\"]} ({client[\"id\"]})')"
      ],
      "metadata": {
        "colab": {
          "base_uri": "https://localhost:8080/"
        },
        "id": "73qwu7b-B2Uh",
        "outputId": "ecfe6f45-bae4-408f-9633-28c2839df78e"
      },
      "execution_count": null,
      "outputs": [
        {
          "output_type": "stream",
          "name": "stdout",
          "text": [
            "Anna (123456)\n",
            "Oskar (987654)\n",
            "Jenifer (456123)\n"
          ]
        }
      ]
    },
    {
      "cell_type": "markdown",
      "source": [
        "# CSV files; is for data storage\n",
        "# JSON"
      ],
      "metadata": {
        "id": "wKeopYzAtZ2Y"
      }
    },
    {
      "cell_type": "markdown",
      "source": [
        "JSON - Java Script Object Notation\n",
        "\n",
        "{\n",
        "    \"clients\": [\n",
        "        {\n",
        "            \"id\": \"123456\",\n",
        "            \"name\": \"Anna\",\n",
        "            \"accounts\": [\n",
        "              {\n",
        "                \"number\": \"EE573784623652\",\n",
        "                \"currency\": \"EUR\",\n",
        "                \"balance\": 1000.00\n",
        "              },\n",
        "              {\n",
        "                \"number\": \"JP573765555652\",\n",
        "                \"currency\": \"JPY\",\n",
        "                \"balance\": 25000.00\n",
        "              },\n",
        "              {\n",
        "                \"number\": \"US655567778888\",\n",
        "                \"currency\": \"USD\",\n",
        "                \"balance\": 0\n",
        "              }\n",
        "            ]\n",
        "          },\n",
        "          {\n",
        "            \"id\": \"987654\",\n",
        "            \"name\": \"Oskar\",\n",
        "            \"accounts\": [\n",
        "              {\n",
        "                \"number\": \"PL849512635445\",\n",
        "                \"currency\": \"PLN\",\n",
        "                \"balance\": 47800.00\n",
        "              }\n",
        "            ]\n",
        "          },\n",
        "        {}\n",
        "    ]\n",
        "}"
      ],
      "metadata": {
        "id": "caXMceEnxGeW"
      }
    }
  ]
}