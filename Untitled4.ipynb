{
  "nbformat": 4,
  "nbformat_minor": 0,
  "metadata": {
    "colab": {
      "provenance": [],
      "authorship_tag": "ABX9TyOb8e3XLLIDVRGYLCMVL03r",
      "include_colab_link": true
    },
    "kernelspec": {
      "name": "python3",
      "display_name": "Python 3"
    },
    "language_info": {
      "name": "python"
    }
  },
  "cells": [
    {
      "cell_type": "markdown",
      "metadata": {
        "id": "view-in-github",
        "colab_type": "text"
      },
      "source": [
        "<a href=\"https://colab.research.google.com/github/KatrinPal/Katrincodes/blob/main/Untitled4.ipynb\" target=\"_parent\"><img src=\"https://colab.research.google.com/assets/colab-badge.svg\" alt=\"Open In Colab\"/></a>"
      ]
    },
    {
      "cell_type": "code",
      "execution_count": null,
      "metadata": {
        "colab": {
          "base_uri": "https://localhost:8080/"
        },
        "id": "VtXae5YNQXAj",
        "outputId": "3bc721cb-9013-4111-ddca-447a34e16b19"
      },
      "outputs": [
        {
          "output_type": "execute_result",
          "data": {
            "text/plain": [
              "str"
            ]
          },
          "metadata": {},
          "execution_count": 1
        }
      ],
      "source": [
        "age = \"18,5\"\n",
        "\n",
        "type(age)"
      ]
    },
    {
      "cell_type": "code",
      "source": [
        "fruits = ['apple', 'orange', 'banana', 'grape', 'kiwi']\n",
        "\n",
        "user_input = input('enter a fruit name: ')\n",
        "\n",
        "# check if input exists in list\n",
        "\n",
        "if user_input in fruits:\n",
        "  print(\"Yes, it is in the list.\")\n",
        "else:\n",
        "  print(\"NO, it's not in the list.\")"
      ],
      "metadata": {
        "colab": {
          "base_uri": "https://localhost:8080/"
        },
        "id": "vFvyJ-8UX2Zh",
        "outputId": "0c789a05-8879-48b7-9184-30d53b8b8863"
      },
      "execution_count": null,
      "outputs": [
        {
          "output_type": "stream",
          "name": "stdout",
          "text": [
            "enter a fruit name: melon\n",
            "NO, it's not in the list.\n"
          ]
        }
      ]
    },
    {
      "cell_type": "code",
      "source": [
        "# Define a list of numbers\n",
        "numbers = [1, 2, 3, 4, 5]\n",
        "\n",
        "# Prompt the user to enter a number\n",
        "user_input = input(\"Please enter a number: \")\n",
        "\n",
        "# Convert the input to an integer\n",
        "number = int(user_input)\n",
        "\n",
        "# Check if the number is in the list\n",
        "if number in numbers:\n",
        "    # Check if the number is even or odd\n",
        "    if number % 2 == 0:\n",
        "        print(f\"The number {number} is even and it's in the list.\")\n",
        "    else:\n",
        "        print(f\"The number {number} is odd and it's in the list.\")\n",
        "else:\n",
        "    print(f\"The number {number} is not in the list.\")"
      ],
      "metadata": {
        "colab": {
          "base_uri": "https://localhost:8080/"
        },
        "id": "GVdtsdysZaPQ",
        "outputId": "2ec69ce2-b3f1-4353-edca-c900e1a44985"
      },
      "execution_count": null,
      "outputs": [
        {
          "output_type": "stream",
          "name": "stdout",
          "text": [
            "Please enter a number: 7\n",
            "The number 7 is not in the list.\n"
          ]
        }
      ]
    },
    {
      "cell_type": "code",
      "source": [
        "numbers = [1,2,3,4,5]\n",
        "\n",
        "user_number = int(input(\"Please enter a number: \"))\n",
        "\n",
        "if user_number in numbers:\n",
        "  if user_number %2 == 0:\n",
        "    print('Your even number is on the list')\n",
        "  else:\n",
        "    print('Your odd number is on the list')\n",
        "else:\n",
        "  print('Your number is not on the list')"
      ],
      "metadata": {
        "id": "0nvAEm9EamSw"
      },
      "execution_count": null,
      "outputs": []
    },
    {
      "cell_type": "markdown",
      "source": [
        "### list methods"
      ],
      "metadata": {
        "id": "o8ote_nxcBVk"
      }
    },
    {
      "cell_type": "code",
      "source": [
        "# APPEND\n",
        "\n",
        "items = ['apple', 'kiwi', 'orange']\n",
        "print(f'original items {items}')\n",
        "\n",
        "my_value = 'banana'\n",
        "items.append(my_value)\n",
        "print(f'changed items {items}')\n"
      ],
      "metadata": {
        "colab": {
          "base_uri": "https://localhost:8080/"
        },
        "id": "_AV8csQOcFbQ",
        "outputId": "db3f5ccc-7466-43e8-bb30-919221f13e4a"
      },
      "execution_count": null,
      "outputs": [
        {
          "output_type": "stream",
          "name": "stdout",
          "text": [
            "original items ['apple', 'kiwi', 'orange']\n",
            "changed items ['apple', 'kiwi', 'orange', 'banana']\n"
          ]
        }
      ]
    },
    {
      "cell_type": "code",
      "source": [
        "# COPY\n",
        "\n",
        "original_list = [1,2,3,4,5]\n",
        "copied_list = original_list.copy()\n",
        "\n",
        "original_list.append(6)\n",
        "print(original_list)\n",
        "print(copied_list)\n"
      ],
      "metadata": {
        "colab": {
          "base_uri": "https://localhost:8080/"
        },
        "id": "wfZHcE28dUa8",
        "outputId": "75de4c6f-358d-4312-e75a-0219a71e38d2"
      },
      "execution_count": null,
      "outputs": [
        {
          "output_type": "stream",
          "name": "stdout",
          "text": [
            "[1, 2, 3, 4, 5, 6]\n",
            "[1, 2, 3, 4, 5]\n"
          ]
        }
      ]
    },
    {
      "cell_type": "code",
      "source": [
        "# COUNT\n",
        "\n",
        "numbers = [1,2,7,6,5,5]\n",
        "\n",
        "target_number = 5\n",
        "count = numbers.count(target_number)\n",
        "print(f'The number {target_number} appears {count} times in the list')"
      ],
      "metadata": {
        "colab": {
          "base_uri": "https://localhost:8080/"
        },
        "id": "YsJPVdQpd7Gu",
        "outputId": "79a06163-2cb5-43cd-ba66-a5af608ad9b8"
      },
      "execution_count": null,
      "outputs": [
        {
          "output_type": "stream",
          "name": "stdout",
          "text": [
            "The number 5 appears 2 times in the list\n"
          ]
        }
      ]
    },
    {
      "cell_type": "code",
      "source": [
        "# INDEX\n",
        "\n",
        "fruits = ['apple', 'banana', 'orange']\n",
        "fruits_index = fruits.index('banana')\n",
        "print(f'index of \"banana\" is: {fruits_index}')"
      ],
      "metadata": {
        "colab": {
          "base_uri": "https://localhost:8080/"
        },
        "id": "S4F0N64af3QP",
        "outputId": "74610598-f515-4223-a287-50107f45784a"
      },
      "execution_count": null,
      "outputs": [
        {
          "output_type": "stream",
          "name": "stdout",
          "text": [
            "index of \"banana\" is: 1\n"
          ]
        }
      ]
    },
    {
      "cell_type": "code",
      "source": [
        "# INSERT\n",
        "\n",
        "numbers = [1,2,3,4,5]\n",
        "numbers.insert(2, 10)\n",
        "\n",
        "print(numbers)"
      ],
      "metadata": {
        "colab": {
          "base_uri": "https://localhost:8080/"
        },
        "id": "6Qyemw-8g3tJ",
        "outputId": "f7039070-95a5-40a7-9dcc-199a10799acc"
      },
      "execution_count": null,
      "outputs": [
        {
          "output_type": "stream",
          "name": "stdout",
          "text": [
            "[1, 2, 10, 3, 4, 5]\n"
          ]
        }
      ]
    },
    {
      "cell_type": "code",
      "source": [
        "# POP\n",
        "\n",
        "numbers.pop(1)\n",
        "print(numbers)"
      ],
      "metadata": {
        "colab": {
          "base_uri": "https://localhost:8080/"
        },
        "id": "nTOhayUphf0C",
        "outputId": "04f21ee1-6c12-4df4-9864-ffa45c234590"
      },
      "execution_count": null,
      "outputs": [
        {
          "output_type": "stream",
          "name": "stdout",
          "text": [
            "[1, 5]\n"
          ]
        }
      ]
    },
    {
      "cell_type": "code",
      "source": [
        "# SORT\n",
        "\n",
        "numbers2 = [6,9,10,3,5]\n",
        "numbers2.sort()\n",
        "print(numbers2)"
      ],
      "metadata": {
        "colab": {
          "base_uri": "https://localhost:8080/"
        },
        "id": "h2_aNyuziDvh",
        "outputId": "4e55375c-9d22-41d1-d805-2bf8219758f4"
      },
      "execution_count": null,
      "outputs": [
        {
          "output_type": "stream",
          "name": "stdout",
          "text": [
            "[3, 5, 6, 9, 10]\n"
          ]
        }
      ]
    },
    {
      "cell_type": "code",
      "source": [
        "# create a list of 5 elements\n",
        "\n",
        "numbers = [7,4,6,9,4]\n",
        "\n",
        "#\n",
        "max_value = max(numbers)\n",
        "print(\"The maximum value in the list is:\", max_value)\n",
        "\n",
        "#min value\n",
        "min_value = min(numbers)\n",
        "print(\"The minimum value in the list is:\", min_value)\n",
        "\n",
        "# avarage value\n",
        "avg_value = avg(numbers)\n",
        "print(\"The avarage value in the list is:\", avg_value)\n"
      ],
      "metadata": {
        "colab": {
          "base_uri": "https://localhost:8080/",
          "height": 228
        },
        "id": "wHWVcl1Xk95W",
        "outputId": "8868f8c3-aefc-4755-cfd2-ac723b772e31"
      },
      "execution_count": null,
      "outputs": [
        {
          "output_type": "stream",
          "name": "stdout",
          "text": [
            "The maximum value in the list is: 9\n",
            "The minimum value in the list is: 4\n"
          ]
        },
        {
          "output_type": "error",
          "ename": "NameError",
          "evalue": "name 'avg' is not defined",
          "traceback": [
            "\u001b[0;31m---------------------------------------------------------------------------\u001b[0m",
            "\u001b[0;31mNameError\u001b[0m                                 Traceback (most recent call last)",
            "\u001b[0;32m<ipython-input-22-9735add9e6d9>\u001b[0m in \u001b[0;36m<cell line: 14>\u001b[0;34m()\u001b[0m\n\u001b[1;32m     12\u001b[0m \u001b[0;34m\u001b[0m\u001b[0m\n\u001b[1;32m     13\u001b[0m \u001b[0;31m# avarage value\u001b[0m\u001b[0;34m\u001b[0m\u001b[0;34m\u001b[0m\u001b[0m\n\u001b[0;32m---> 14\u001b[0;31m \u001b[0mavg_value\u001b[0m \u001b[0;34m=\u001b[0m \u001b[0mavg\u001b[0m\u001b[0;34m(\u001b[0m\u001b[0mnumbers\u001b[0m\u001b[0;34m)\u001b[0m\u001b[0;34m\u001b[0m\u001b[0;34m\u001b[0m\u001b[0m\n\u001b[0m\u001b[1;32m     15\u001b[0m \u001b[0mprint\u001b[0m\u001b[0;34m(\u001b[0m\u001b[0;34m\"The avarage value in the list is:\"\u001b[0m\u001b[0;34m,\u001b[0m \u001b[0mavg_value\u001b[0m\u001b[0;34m)\u001b[0m\u001b[0;34m\u001b[0m\u001b[0;34m\u001b[0m\u001b[0m\n",
            "\u001b[0;31mNameError\u001b[0m: name 'avg' is not defined"
          ]
        }
      ]
    },
    {
      "cell_type": "code",
      "source": [
        "#Create a list of 5 numbers\n",
        "numbers = [1,5,6,5,8]\n",
        "\n",
        "#Calculate maximum value of n\n",
        "numbers = [1, 5, 6, 5, 8]\n",
        "max_value = max(numbers)\n",
        "print(max_value)\n",
        "\n",
        "#Calculate minimum value\n",
        "numbers = [1, 5, 6, 5, 8]\n",
        "min_value = min(numbers)\n",
        "print(min_value)\n",
        "\n",
        "#Calculate average value\n",
        "numbers = [1, 5, 6, 5, 8]\n",
        "average_value = sum(numbers) / len(numbers)\n",
        "print(average_value)\n",
        "\n",
        "# Check if the average value of the list is  higher\n",
        "numbers = [1, 5, 6, 5, 8]\n",
        "threshold = 4.5  # Example threshold value\n",
        "\n",
        "average_value = sum(numbers) / len(numbers)\n",
        "\n",
        "if average_value > threshold:\n",
        "    print(\"The average value is higher than the threshold.\")\n",
        "else:\n",
        "    print(\"The average value is not higher than the threshold.\")\n",
        "\n",
        "#if the average is greater than 3, print \"Average is greater\", otherwise \"Average is not greater\"\n",
        "numbers = [1, 5, 6, 5, 8]\n",
        "average_value = sum(numbers) / len(numbers)\n",
        "if average_value > 3:\n",
        "    print(\"Average is greater\")\n",
        "else:\n",
        "    print(\"Average is not greater\")\n",
        "\n",
        "#Sort the list\n",
        "numbers = [1, 5, 6, 5, 8]\n",
        "sorted_numbers = sorted(numbers)\n",
        "print(sorted_numbers)\n",
        "\n",
        "#Remove first number of the list\n",
        "numbers = [1, 5, 6, 5, 8]\n",
        "numbers.pop(0)\n",
        "print(numbers)\n",
        "\n",
        "#Add your Name to the list°\n",
        "names = ['Liene', 'Ilze', 'Janis']\n",
        "names.append('Lasma')\n",
        "print(names)\n",
        "\n",
        "#Calculate at what index is your name\n",
        "names = ['Liene', 'Ilze', 'Janis', 'Lasma']\n",
        "index_of_my_name = names.index('Lasma')\n",
        "print(\"Index of 'Lasma' is:\", index_of_my_name)"
      ],
      "metadata": {
        "colab": {
          "base_uri": "https://localhost:8080/"
        },
        "id": "MkYa1Iolofuv",
        "outputId": "910593c0-0370-49de-fd0a-8bbf4a33ab69"
      },
      "execution_count": null,
      "outputs": [
        {
          "output_type": "stream",
          "name": "stdout",
          "text": [
            "8\n",
            "1\n",
            "5.0\n",
            "The average value is higher than the threshold.\n",
            "Average is greater\n",
            "[1, 5, 5, 6, 8]\n",
            "[5, 6, 5, 8]\n",
            "['Liene', 'Ilze', 'Janis', 'Lasma']\n",
            "Index of 'Lasma' is: 3\n"
          ]
        }
      ]
    },
    {
      "cell_type": "code",
      "source": [
        "numbers = [1, 6, 13, 2, 5]\n",
        "\n",
        "max_value = max(numbers)\n",
        "print(f\"The maximum value in the list is: {max_value}\")\n",
        "\n",
        "min_value = min(numbers)\n",
        "print(f\"The minimum value in the list is: {min_value}\")\n",
        "\n",
        "average_value = sum(numbers) / len(numbers)\n",
        "print(f\"The average value in the list is: {average_value}\")\n",
        "\n",
        "# if the average val is higher than 3\n",
        "if average_value > 3:\n",
        "  print(\"The average value of numbers in the list is higher than 3\")\n",
        "else:\n",
        "  print(\"The average value of numbers on the list is lower than 3\")\n",
        "\n",
        "numbers.sort()\n",
        "\n",
        "numbers.pop(0)\n",
        "\n",
        "numbers.append(\"Elina\")\n",
        "\n",
        "numbers.index(\"Elina\")"
      ],
      "metadata": {
        "colab": {
          "base_uri": "https://localhost:8080/"
        },
        "id": "Kj94LhpfpRCg",
        "outputId": "7d9ec391-3301-440d-acd9-d8f975467d4c"
      },
      "execution_count": null,
      "outputs": [
        {
          "output_type": "stream",
          "name": "stdout",
          "text": [
            "The maximum value in the list is: 13\n",
            "The minimum value in the list is: 1\n",
            "The average value in the list is: 5.4\n",
            "The average value of numbers in the list is higher than 3\n"
          ]
        },
        {
          "output_type": "execute_result",
          "data": {
            "text/plain": [
              "4"
            ]
          },
          "metadata": {},
          "execution_count": 24
        }
      ]
    },
    {
      "cell_type": "markdown",
      "source": [
        "# for loops; RANGE (start, stop, step)"
      ],
      "metadata": {
        "id": "O265mE4frbJZ"
      }
    },
    {
      "cell_type": "code",
      "source": [
        "range(7)\n",
        "\n",
        "for i in numbers_with_range:\n",
        "  print(i)\n"
      ],
      "metadata": {
        "colab": {
          "base_uri": "https://localhost:8080/"
        },
        "id": "xZ9-uUdrrd7l",
        "outputId": "4d1ac508-a8ba-4c76-d465-c7c3a29c8403"
      },
      "execution_count": null,
      "outputs": [
        {
          "output_type": "stream",
          "name": "stdout",
          "text": [
            "1\n",
            "2\n",
            "3\n",
            "4\n",
            "5\n",
            "6\n"
          ]
        }
      ]
    },
    {
      "cell_type": "code",
      "source": [
        "for number in numbers_with_range:\n",
        "  print(number)\n"
      ],
      "metadata": {
        "colab": {
          "base_uri": "https://localhost:8080/"
        },
        "id": "gpZiF1m9vTJs",
        "outputId": "b6f4d24d-6a5a-458a-9bf1-a9346851cb69"
      },
      "execution_count": null,
      "outputs": [
        {
          "output_type": "stream",
          "name": "stdout",
          "text": [
            "1\n",
            "2\n",
            "3\n",
            "4\n",
            "5\n",
            "6\n"
          ]
        }
      ]
    },
    {
      "cell_type": "code",
      "source": [
        "for number in numbers_with_range:\n",
        "  number = number*2\n",
        "  print(number)"
      ],
      "metadata": {
        "colab": {
          "base_uri": "https://localhost:8080/"
        },
        "id": "Xx5_Fzk0t0Vu",
        "outputId": "75fe4115-6a1c-4b3a-d502-3db1f07326f3"
      },
      "execution_count": null,
      "outputs": [
        {
          "output_type": "stream",
          "name": "stdout",
          "text": [
            "2\n",
            "4\n",
            "6\n",
            "8\n",
            "10\n",
            "12\n"
          ]
        }
      ]
    },
    {
      "cell_type": "markdown",
      "source": [
        "# Teamwork: Analyzing Numbers - Iterate through a list of 10 random numbers and determine whether each number is higher or lower than 5"
      ],
      "metadata": {
        "id": "lpBCHZ42xZar"
      }
    },
    {
      "cell_type": "code",
      "source": [
        "numbers = [7,6,8,0,3,77,4]\n",
        "\n",
        "for number in numbers:\n",
        "    if number > 5:\n",
        "      print(f'{number} is higher than 5')\n",
        "    elif number < 5:\n",
        "      print(f'{number} is lower than 5')\n",
        "else:\n",
        "  print(f'{number} is equal to 5')\n"
      ],
      "metadata": {
        "colab": {
          "base_uri": "https://localhost:8080/"
        },
        "id": "b_WbPjPYxb0K",
        "outputId": "aa700c6c-ad3c-4bd4-9ee7-9bfc2f8f01b1"
      },
      "execution_count": null,
      "outputs": [
        {
          "output_type": "stream",
          "name": "stdout",
          "text": [
            "7 is higher than 5\n",
            "6 is higher than 5\n",
            "8 is higher than 5\n",
            "0 is lower than 5\n",
            "3 is lower than 5\n",
            "77 is higher than 5\n",
            "4 is lower than 5\n",
            "4 is equal to 5\n"
          ]
        }
      ]
    },
    {
      "cell_type": "code",
      "source": [
        "\n",
        "numbers = [7, 6, 8, 0, 3, 77, 4]\n",
        "\n",
        "for number in numbers:\n",
        "    if number > 5:\n",
        "        print(f\"{number} is higher than 5\")\n",
        "    elif number < 5:\n",
        "        print(f\"{number} is lower than 5\")\n",
        "    else:\n",
        "        print(f\"{number} is equal to 5\")"
      ],
      "metadata": {
        "colab": {
          "base_uri": "https://localhost:8080/"
        },
        "id": "4CDWdq2H2hnO",
        "outputId": "5c67dc2f-c260-433a-d83b-bb7812c85f97"
      },
      "execution_count": null,
      "outputs": [
        {
          "output_type": "stream",
          "name": "stdout",
          "text": [
            "7 is higher than 5\n",
            "6 is higher than 5\n",
            "8 is higher than 5\n",
            "0 is lower than 5\n",
            "3 is lower than 5\n",
            "77 is higher than 5\n",
            "4 is lower than 5\n"
          ]
        }
      ]
    }
  ]
}